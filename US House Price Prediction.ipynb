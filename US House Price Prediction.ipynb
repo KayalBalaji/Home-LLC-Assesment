{
 "cells": [
  {
   "cell_type": "markdown",
   "id": "a2de26c1",
   "metadata": {},
   "source": [
    "# Key Factors that influence US Home Prices"
   ]
  },
  {
   "cell_type": "markdown",
   "id": "9bc3a435",
   "metadata": {},
   "source": [
    "Aim: To build a model using publically available data for key supply –demand factors that could influence U.S. Home Prices. Use that factors to explain how these factors home prices over last 20 years."
   ]
  },
  {
   "cell_type": "markdown",
   "id": "ace179d5",
   "metadata": {},
   "source": [
    "1 Observation date :\n",
    "These are the dates of observations (Annual observation from the year 2000 to year 2020)\n",
    "\n",
    "2 Unemployment RATE :\n",
    "This features gives the unemployment rate of USA from year 2000 to 2020\n",
    "\n",
    "3 GDP:\n",
    "This feature gives the Gross Domestic Product value of USA from year 2000 to 2020\n",
    "\n",
    "4 PERMIT:\n",
    "This features gives the values of total housing permits passed in USA over the year 2000 to 2020(UNIT: Thousands of unit)\n",
    "\n",
    "5 POPTHM :\n",
    "This feature gives the information about the population growth of USA (UNIT: Thousands)\n",
    "\n",
    "6 Recession:\n",
    "    This features represent weather the year was going through Recession or not (0 -> represents no Recession, 1-> represents Recession)\n",
    "\n",
    "7 House Tax:\n",
    "This features gives the values of taxes the owner had to pay during the observation date (UNIT: Thousands)\n",
    "\n",
    "8 TTLCONS\n",
    "This features gives the values of total construction spending in USA during the observation date (Unit: Millions of Dollars)\n",
    "\n",
    "9 Life Expectancy : This features gives the value of life Expectancy at birth total for United States (Unit: Years)\n",
    "\n",
    "10 MORTGAGE_RATE_US:\n",
    "This features gives the values of mortgage average rate in United States (Unit: Percent)\n",
    "\n",
    "11 CPI:\n",
    "The CPI stands for Consumer Price Index it measures change over time in the prices paid by consumers for a representative basket of goods and services.\n",
    "\n",
    "Home Price Index:\n",
    "This feature basically serves the purpose of target variable in the dataset."
   ]
  },
  {
   "cell_type": "markdown",
   "id": "184497f0",
   "metadata": {},
   "source": [
    "# Importing necessary Libraries"
   ]
  },
  {
   "cell_type": "code",
   "execution_count": 3,
   "id": "30d1be64",
   "metadata": {},
   "outputs": [],
   "source": [
    "import pandas as pd\n",
    "import numpy as np\n",
    "import seaborn as sns\n",
    "import matplotlib.pyplot as plt\n",
    "import statsmodels.api as sm\n",
    "from sklearn.linear_model import LinearRegression,Lasso,Ridge,ElasticNet\n",
    "plt.rc('figure', figsize=(20,20))\n",
    "import warnings\n",
    "warnings.filterwarnings('ignore')\n",
    "from sklearn.metrics import mean_squared_error\n",
    "from sklearn.model_selection import train_test_split\n",
    "from sklearn.preprocessing import StandardScaler\n",
    "from mlxtend.feature_selection import SequentialFeatureSelector as sfs\n",
    "from sklearn.model_selection import cross_val_score,GridSearchCV,train_test_split\n",
    "from sklearn.tree import DecisionTreeRegressor\n",
    "from sklearn.ensemble import RandomForestRegressor,AdaBoostRegressor,GradientBoostingRegressor\n",
    "from xgboost import XGBRegressor\n",
    "from sklearn.neighbors import KNeighborsRegressor\n",
    "from catboost import CatBoostRegressor\n",
    "from statsmodels.stats.outliers_influence import variance_inflation_factor\n",
    "from sklearn.ensemble import StackingRegressor"
   ]
  },
  {
   "cell_type": "code",
   "execution_count": null,
   "id": "b0458552",
   "metadata": {},
   "outputs": [],
   "source": []
  },
  {
   "cell_type": "markdown",
   "id": "70b57153",
   "metadata": {},
   "source": [
    "# Exploratory Data Analysis"
   ]
  },
  {
   "cell_type": "code",
   "execution_count": 37,
   "id": "692d962b",
   "metadata": {},
   "outputs": [],
   "source": [
    "data=pd.read_excel(r\"Documents\\US_Price.xlsx\")"
   ]
  },
  {
   "cell_type": "code",
   "execution_count": 38,
   "id": "d419166f",
   "metadata": {},
   "outputs": [
    {
     "data": {
      "text/html": [
       "<div>\n",
       "<style scoped>\n",
       "    .dataframe tbody tr th:only-of-type {\n",
       "        vertical-align: middle;\n",
       "    }\n",
       "\n",
       "    .dataframe tbody tr th {\n",
       "        vertical-align: top;\n",
       "    }\n",
       "\n",
       "    .dataframe thead th {\n",
       "        text-align: right;\n",
       "    }\n",
       "</style>\n",
       "<table border=\"1\" class=\"dataframe\">\n",
       "  <thead>\n",
       "    <tr style=\"text-align: right;\">\n",
       "      <th></th>\n",
       "      <th>DATE</th>\n",
       "      <th>UNRATE</th>\n",
       "      <th>GDP in Billion $</th>\n",
       "      <th>Number of Permits</th>\n",
       "      <th>Population in Thousands</th>\n",
       "      <th>Recession</th>\n",
       "      <th>House Tax Unit $</th>\n",
       "      <th>Total Contruction Cost in Million $</th>\n",
       "      <th>LIFE EXPECTANCY in YEARS</th>\n",
       "      <th>MORTGAGE in Percent</th>\n",
       "      <th>CPI</th>\n",
       "      <th>Inflation in Percent</th>\n",
       "      <th>House Price Index</th>\n",
       "    </tr>\n",
       "  </thead>\n",
       "  <tbody>\n",
       "    <tr>\n",
       "      <th>0</th>\n",
       "      <td>2003-01-01</td>\n",
       "      <td>5.991667</td>\n",
       "      <td>11456.44950</td>\n",
       "      <td>1888.416667</td>\n",
       "      <td>290626.2500</td>\n",
       "      <td>0</td>\n",
       "      <td>611</td>\n",
       "      <td>74291.50000</td>\n",
       "      <td>77.036585</td>\n",
       "      <td>5.826981</td>\n",
       "      <td>184.800000</td>\n",
       "      <td>2.270095</td>\n",
       "      <td>133.731333</td>\n",
       "    </tr>\n",
       "    <tr>\n",
       "      <th>1</th>\n",
       "      <td>2004-01-01</td>\n",
       "      <td>5.541667</td>\n",
       "      <td>12217.19575</td>\n",
       "      <td>2057.583333</td>\n",
       "      <td>293262.3333</td>\n",
       "      <td>0</td>\n",
       "      <td>595</td>\n",
       "      <td>82613.08333</td>\n",
       "      <td>77.487805</td>\n",
       "      <td>5.839231</td>\n",
       "      <td>189.541667</td>\n",
       "      <td>2.677237</td>\n",
       "      <td>150.440250</td>\n",
       "    </tr>\n",
       "    <tr>\n",
       "      <th>2</th>\n",
       "      <td>2005-01-01</td>\n",
       "      <td>5.083333</td>\n",
       "      <td>13039.19700</td>\n",
       "      <td>2160.083333</td>\n",
       "      <td>295992.9167</td>\n",
       "      <td>0</td>\n",
       "      <td>667</td>\n",
       "      <td>93067.58333</td>\n",
       "      <td>77.487805</td>\n",
       "      <td>5.866731</td>\n",
       "      <td>195.716667</td>\n",
       "      <td>3.392747</td>\n",
       "      <td>171.737000</td>\n",
       "    </tr>\n",
       "    <tr>\n",
       "      <th>3</th>\n",
       "      <td>2006-01-01</td>\n",
       "      <td>4.608333</td>\n",
       "      <td>13815.58300</td>\n",
       "      <td>1843.666667</td>\n",
       "      <td>298817.6667</td>\n",
       "      <td>0</td>\n",
       "      <td>649</td>\n",
       "      <td>96773.50000</td>\n",
       "      <td>77.687805</td>\n",
       "      <td>6.413269</td>\n",
       "      <td>203.158333</td>\n",
       "      <td>3.225944</td>\n",
       "      <td>183.447500</td>\n",
       "    </tr>\n",
       "    <tr>\n",
       "      <th>4</th>\n",
       "      <td>2007-01-01</td>\n",
       "      <td>4.616667</td>\n",
       "      <td>14474.22700</td>\n",
       "      <td>1391.500000</td>\n",
       "      <td>301696.1667</td>\n",
       "      <td>0</td>\n",
       "      <td>582</td>\n",
       "      <td>95662.75000</td>\n",
       "      <td>77.987805</td>\n",
       "      <td>6.337308</td>\n",
       "      <td>209.582583</td>\n",
       "      <td>2.852672</td>\n",
       "      <td>179.918917</td>\n",
       "    </tr>\n",
       "    <tr>\n",
       "      <th>5</th>\n",
       "      <td>2008-01-01</td>\n",
       "      <td>5.800000</td>\n",
       "      <td>14769.86150</td>\n",
       "      <td>895.833333</td>\n",
       "      <td>304543.0833</td>\n",
       "      <td>1</td>\n",
       "      <td>674</td>\n",
       "      <td>89779.25000</td>\n",
       "      <td>78.039024</td>\n",
       "      <td>6.027170</td>\n",
       "      <td>216.255083</td>\n",
       "      <td>3.839100</td>\n",
       "      <td>164.057417</td>\n",
       "    </tr>\n",
       "    <tr>\n",
       "      <th>6</th>\n",
       "      <td>2009-01-01</td>\n",
       "      <td>9.283333</td>\n",
       "      <td>14478.06675</td>\n",
       "      <td>582.000000</td>\n",
       "      <td>307240.0833</td>\n",
       "      <td>1</td>\n",
       "      <td>657</td>\n",
       "      <td>75980.58333</td>\n",
       "      <td>78.390244</td>\n",
       "      <td>5.036538</td>\n",
       "      <td>217.057833</td>\n",
       "      <td>-0.355546</td>\n",
       "      <td>148.545083</td>\n",
       "    </tr>\n",
       "    <tr>\n",
       "      <th>7</th>\n",
       "      <td>2010-01-01</td>\n",
       "      <td>9.608333</td>\n",
       "      <td>15048.97000</td>\n",
       "      <td>603.666667</td>\n",
       "      <td>309838.8333</td>\n",
       "      <td>0</td>\n",
       "      <td>606</td>\n",
       "      <td>67747.08333</td>\n",
       "      <td>78.541463</td>\n",
       "      <td>4.689808</td>\n",
       "      <td>216.253500</td>\n",
       "      <td>1.640043</td>\n",
       "      <td>144.674500</td>\n",
       "    </tr>\n",
       "    <tr>\n",
       "      <th>8</th>\n",
       "      <td>2011-01-01</td>\n",
       "      <td>8.933333</td>\n",
       "      <td>15599.73175</td>\n",
       "      <td>624.000000</td>\n",
       "      <td>312295.2500</td>\n",
       "      <td>0</td>\n",
       "      <td>638</td>\n",
       "      <td>65936.50000</td>\n",
       "      <td>78.641463</td>\n",
       "      <td>4.447885</td>\n",
       "      <td>219.104250</td>\n",
       "      <td>3.156842</td>\n",
       "      <td>139.259500</td>\n",
       "    </tr>\n",
       "    <tr>\n",
       "      <th>9</th>\n",
       "      <td>2012-01-01</td>\n",
       "      <td>8.075000</td>\n",
       "      <td>16253.97000</td>\n",
       "      <td>828.500000</td>\n",
       "      <td>314725.4167</td>\n",
       "      <td>0</td>\n",
       "      <td>691</td>\n",
       "      <td>71200.25000</td>\n",
       "      <td>78.741463</td>\n",
       "      <td>3.657500</td>\n",
       "      <td>222.713833</td>\n",
       "      <td>2.069337</td>\n",
       "      <td>140.993833</td>\n",
       "    </tr>\n",
       "    <tr>\n",
       "      <th>10</th>\n",
       "      <td>2013-01-01</td>\n",
       "      <td>7.358333</td>\n",
       "      <td>16843.19575</td>\n",
       "      <td>988.000000</td>\n",
       "      <td>317099.0000</td>\n",
       "      <td>0</td>\n",
       "      <td>2122</td>\n",
       "      <td>76215.33333</td>\n",
       "      <td>78.741463</td>\n",
       "      <td>3.975577</td>\n",
       "      <td>227.349750</td>\n",
       "      <td>1.464833</td>\n",
       "      <td>154.520833</td>\n",
       "    </tr>\n",
       "    <tr>\n",
       "      <th>11</th>\n",
       "      <td>2014-01-01</td>\n",
       "      <td>6.158333</td>\n",
       "      <td>17550.68775</td>\n",
       "      <td>1052.083333</td>\n",
       "      <td>319600.4167</td>\n",
       "      <td>0</td>\n",
       "      <td>2328</td>\n",
       "      <td>84607.66667</td>\n",
       "      <td>78.841463</td>\n",
       "      <td>4.168868</td>\n",
       "      <td>233.214750</td>\n",
       "      <td>1.622223</td>\n",
       "      <td>164.698250</td>\n",
       "    </tr>\n",
       "    <tr>\n",
       "      <th>12</th>\n",
       "      <td>2015-01-01</td>\n",
       "      <td>5.275000</td>\n",
       "      <td>18206.02350</td>\n",
       "      <td>1177.416667</td>\n",
       "      <td>322112.6667</td>\n",
       "      <td>0</td>\n",
       "      <td>2580</td>\n",
       "      <td>94343.08333</td>\n",
       "      <td>78.690244</td>\n",
       "      <td>3.850577</td>\n",
       "      <td>238.060417</td>\n",
       "      <td>0.118627</td>\n",
       "      <td>172.181750</td>\n",
       "    </tr>\n",
       "    <tr>\n",
       "      <th>13</th>\n",
       "      <td>2016-01-01</td>\n",
       "      <td>4.875000</td>\n",
       "      <td>18695.10575</td>\n",
       "      <td>1205.666667</td>\n",
       "      <td>324609.3333</td>\n",
       "      <td>0</td>\n",
       "      <td>2631</td>\n",
       "      <td>101095.50000</td>\n",
       "      <td>78.539024</td>\n",
       "      <td>3.654038</td>\n",
       "      <td>243.975083</td>\n",
       "      <td>1.261583</td>\n",
       "      <td>180.925750</td>\n",
       "    </tr>\n",
       "    <tr>\n",
       "      <th>14</th>\n",
       "      <td>2017-01-01</td>\n",
       "      <td>4.358333</td>\n",
       "      <td>19477.33650</td>\n",
       "      <td>1286.416667</td>\n",
       "      <td>326859.6667</td>\n",
       "      <td>0</td>\n",
       "      <td>2589</td>\n",
       "      <td>106653.41670</td>\n",
       "      <td>78.539024</td>\n",
       "      <td>3.989808</td>\n",
       "      <td>251.231167</td>\n",
       "      <td>2.130110</td>\n",
       "      <td>191.398750</td>\n",
       "    </tr>\n",
       "    <tr>\n",
       "      <th>15</th>\n",
       "      <td>2018-01-01</td>\n",
       "      <td>3.891667</td>\n",
       "      <td>20533.05750</td>\n",
       "      <td>1328.083333</td>\n",
       "      <td>328794.5000</td>\n",
       "      <td>0</td>\n",
       "      <td>2925</td>\n",
       "      <td>111098.66670</td>\n",
       "      <td>78.639024</td>\n",
       "      <td>4.544615</td>\n",
       "      <td>258.476417</td>\n",
       "      <td>2.442583</td>\n",
       "      <td>202.479333</td>\n",
       "    </tr>\n",
       "    <tr>\n",
       "      <th>16</th>\n",
       "      <td>2019-01-01</td>\n",
       "      <td>3.683333</td>\n",
       "      <td>21380.97600</td>\n",
       "      <td>1389.250000</td>\n",
       "      <td>330512.5833</td>\n",
       "      <td>0</td>\n",
       "      <td>3146</td>\n",
       "      <td>115919.83330</td>\n",
       "      <td>78.787805</td>\n",
       "      <td>3.935769</td>\n",
       "      <td>265.945417</td>\n",
       "      <td>1.812210</td>\n",
       "      <td>209.467667</td>\n",
       "    </tr>\n",
       "    <tr>\n",
       "      <th>17</th>\n",
       "      <td>2020-01-01</td>\n",
       "      <td>8.091667</td>\n",
       "      <td>21060.47425</td>\n",
       "      <td>1479.000000</td>\n",
       "      <td>331787.4167</td>\n",
       "      <td>1</td>\n",
       "      <td>3017</td>\n",
       "      <td>124964.16670</td>\n",
       "      <td>76.980488</td>\n",
       "      <td>3.111698</td>\n",
       "      <td>271.777250</td>\n",
       "      <td>1.233584</td>\n",
       "      <td>222.148583</td>\n",
       "    </tr>\n",
       "    <tr>\n",
       "      <th>18</th>\n",
       "      <td>2021-01-01</td>\n",
       "      <td>5.366667</td>\n",
       "      <td>23315.08125</td>\n",
       "      <td>1739.666667</td>\n",
       "      <td>332351.1667</td>\n",
       "      <td>0</td>\n",
       "      <td>3138</td>\n",
       "      <td>137781.50000</td>\n",
       "      <td>76.329268</td>\n",
       "      <td>2.957692</td>\n",
       "      <td>280.720667</td>\n",
       "      <td>4.697859</td>\n",
       "      <td>260.053000</td>\n",
       "    </tr>\n",
       "    <tr>\n",
       "      <th>19</th>\n",
       "      <td>2022-01-01</td>\n",
       "      <td>3.641667</td>\n",
       "      <td>25462.72225</td>\n",
       "      <td>1666.166667</td>\n",
       "      <td>333595.0833</td>\n",
       "      <td>0</td>\n",
       "      <td>3423</td>\n",
       "      <td>154056.33330</td>\n",
       "      <td>NaN</td>\n",
       "      <td>5.344038</td>\n",
       "      <td>300.802083</td>\n",
       "      <td>8.002800</td>\n",
       "      <td>298.494167</td>\n",
       "    </tr>\n",
       "  </tbody>\n",
       "</table>\n",
       "</div>"
      ],
      "text/plain": [
       "         DATE    UNRATE  GDP in Billion $  Number of Permits  \\\n",
       "0  2003-01-01  5.991667       11456.44950        1888.416667   \n",
       "1  2004-01-01  5.541667       12217.19575        2057.583333   \n",
       "2  2005-01-01  5.083333       13039.19700        2160.083333   \n",
       "3  2006-01-01  4.608333       13815.58300        1843.666667   \n",
       "4  2007-01-01  4.616667       14474.22700        1391.500000   \n",
       "5  2008-01-01  5.800000       14769.86150         895.833333   \n",
       "6  2009-01-01  9.283333       14478.06675         582.000000   \n",
       "7  2010-01-01  9.608333       15048.97000         603.666667   \n",
       "8  2011-01-01  8.933333       15599.73175         624.000000   \n",
       "9  2012-01-01  8.075000       16253.97000         828.500000   \n",
       "10 2013-01-01  7.358333       16843.19575         988.000000   \n",
       "11 2014-01-01  6.158333       17550.68775        1052.083333   \n",
       "12 2015-01-01  5.275000       18206.02350        1177.416667   \n",
       "13 2016-01-01  4.875000       18695.10575        1205.666667   \n",
       "14 2017-01-01  4.358333       19477.33650        1286.416667   \n",
       "15 2018-01-01  3.891667       20533.05750        1328.083333   \n",
       "16 2019-01-01  3.683333       21380.97600        1389.250000   \n",
       "17 2020-01-01  8.091667       21060.47425        1479.000000   \n",
       "18 2021-01-01  5.366667       23315.08125        1739.666667   \n",
       "19 2022-01-01  3.641667       25462.72225        1666.166667   \n",
       "\n",
       "    Population in Thousands  Recession  House Tax Unit $  \\\n",
       "0               290626.2500          0               611   \n",
       "1               293262.3333          0               595   \n",
       "2               295992.9167          0               667   \n",
       "3               298817.6667          0               649   \n",
       "4               301696.1667          0               582   \n",
       "5               304543.0833          1               674   \n",
       "6               307240.0833          1               657   \n",
       "7               309838.8333          0               606   \n",
       "8               312295.2500          0               638   \n",
       "9               314725.4167          0               691   \n",
       "10              317099.0000          0              2122   \n",
       "11              319600.4167          0              2328   \n",
       "12              322112.6667          0              2580   \n",
       "13              324609.3333          0              2631   \n",
       "14              326859.6667          0              2589   \n",
       "15              328794.5000          0              2925   \n",
       "16              330512.5833          0              3146   \n",
       "17              331787.4167          1              3017   \n",
       "18              332351.1667          0              3138   \n",
       "19              333595.0833          0              3423   \n",
       "\n",
       "    Total Contruction Cost in Million $  LIFE EXPECTANCY in YEARS  \\\n",
       "0                           74291.50000                 77.036585   \n",
       "1                           82613.08333                 77.487805   \n",
       "2                           93067.58333                 77.487805   \n",
       "3                           96773.50000                 77.687805   \n",
       "4                           95662.75000                 77.987805   \n",
       "5                           89779.25000                 78.039024   \n",
       "6                           75980.58333                 78.390244   \n",
       "7                           67747.08333                 78.541463   \n",
       "8                           65936.50000                 78.641463   \n",
       "9                           71200.25000                 78.741463   \n",
       "10                          76215.33333                 78.741463   \n",
       "11                          84607.66667                 78.841463   \n",
       "12                          94343.08333                 78.690244   \n",
       "13                         101095.50000                 78.539024   \n",
       "14                         106653.41670                 78.539024   \n",
       "15                         111098.66670                 78.639024   \n",
       "16                         115919.83330                 78.787805   \n",
       "17                         124964.16670                 76.980488   \n",
       "18                         137781.50000                 76.329268   \n",
       "19                         154056.33330                       NaN   \n",
       "\n",
       "    MORTGAGE in Percent         CPI  Inflation in Percent  House Price Index  \n",
       "0              5.826981  184.800000              2.270095         133.731333  \n",
       "1              5.839231  189.541667              2.677237         150.440250  \n",
       "2              5.866731  195.716667              3.392747         171.737000  \n",
       "3              6.413269  203.158333              3.225944         183.447500  \n",
       "4              6.337308  209.582583              2.852672         179.918917  \n",
       "5              6.027170  216.255083              3.839100         164.057417  \n",
       "6              5.036538  217.057833             -0.355546         148.545083  \n",
       "7              4.689808  216.253500              1.640043         144.674500  \n",
       "8              4.447885  219.104250              3.156842         139.259500  \n",
       "9              3.657500  222.713833              2.069337         140.993833  \n",
       "10             3.975577  227.349750              1.464833         154.520833  \n",
       "11             4.168868  233.214750              1.622223         164.698250  \n",
       "12             3.850577  238.060417              0.118627         172.181750  \n",
       "13             3.654038  243.975083              1.261583         180.925750  \n",
       "14             3.989808  251.231167              2.130110         191.398750  \n",
       "15             4.544615  258.476417              2.442583         202.479333  \n",
       "16             3.935769  265.945417              1.812210         209.467667  \n",
       "17             3.111698  271.777250              1.233584         222.148583  \n",
       "18             2.957692  280.720667              4.697859         260.053000  \n",
       "19             5.344038  300.802083              8.002800         298.494167  "
      ]
     },
     "execution_count": 38,
     "metadata": {},
     "output_type": "execute_result"
    }
   ],
   "source": [
    "data"
   ]
  },
  {
   "cell_type": "code",
   "execution_count": 39,
   "id": "66e75ef0",
   "metadata": {},
   "outputs": [
    {
     "data": {
      "text/plain": [
       "(20, 13)"
      ]
     },
     "execution_count": 39,
     "metadata": {},
     "output_type": "execute_result"
    }
   ],
   "source": [
    "data.shape"
   ]
  },
  {
   "cell_type": "code",
   "execution_count": null,
   "id": "c1477da4",
   "metadata": {},
   "outputs": [],
   "source": []
  },
  {
   "cell_type": "markdown",
   "id": "dbb1c48e",
   "metadata": {},
   "source": [
    "# Checking Null Values"
   ]
  },
  {
   "cell_type": "code",
   "execution_count": 41,
   "id": "309c8117",
   "metadata": {},
   "outputs": [
    {
     "data": {
      "text/plain": [
       "DATE                                   0\n",
       "UNRATE                                 0\n",
       "GDP in Billion $                       0\n",
       "Number of Permits                      0\n",
       "Population in Thousands                0\n",
       "Recession                              0\n",
       "House Tax Unit $                       0\n",
       "Total Contruction Cost in Million $    0\n",
       "LIFE EXPECTANCY in YEARS               1\n",
       "MORTGAGE in Percent                    0\n",
       "CPI                                    0\n",
       "Inflation in Percent                   0\n",
       "House Price Index                      0\n",
       "dtype: int64"
      ]
     },
     "execution_count": 41,
     "metadata": {},
     "output_type": "execute_result"
    }
   ],
   "source": [
    "data.isnull().sum()"
   ]
  },
  {
   "cell_type": "code",
   "execution_count": 42,
   "id": "b18fa316",
   "metadata": {},
   "outputs": [
    {
     "name": "stdout",
     "output_type": "stream",
     "text": [
      "<class 'pandas.core.frame.DataFrame'>\n",
      "RangeIndex: 20 entries, 0 to 19\n",
      "Data columns (total 13 columns):\n",
      " #   Column                               Non-Null Count  Dtype         \n",
      "---  ------                               --------------  -----         \n",
      " 0   DATE                                 20 non-null     datetime64[ns]\n",
      " 1   UNRATE                               20 non-null     float64       \n",
      " 2   GDP in Billion $                     20 non-null     float64       \n",
      " 3   Number of Permits                    20 non-null     float64       \n",
      " 4   Population in Thousands              20 non-null     float64       \n",
      " 5   Recession                            20 non-null     int64         \n",
      " 6   House Tax Unit $                     20 non-null     int64         \n",
      " 7   Total Contruction Cost in Million $  20 non-null     float64       \n",
      " 8   LIFE EXPECTANCY in YEARS             19 non-null     float64       \n",
      " 9   MORTGAGE in Percent                  20 non-null     float64       \n",
      " 10  CPI                                  20 non-null     float64       \n",
      " 11  Inflation in Percent                 20 non-null     float64       \n",
      " 12  House Price Index                    20 non-null     float64       \n",
      "dtypes: datetime64[ns](1), float64(10), int64(2)\n",
      "memory usage: 2.2 KB\n"
     ]
    }
   ],
   "source": [
    "data.info()"
   ]
  },
  {
   "cell_type": "code",
   "execution_count": 43,
   "id": "b6b1922a",
   "metadata": {},
   "outputs": [
    {
     "data": {
      "text/html": [
       "<div>\n",
       "<style scoped>\n",
       "    .dataframe tbody tr th:only-of-type {\n",
       "        vertical-align: middle;\n",
       "    }\n",
       "\n",
       "    .dataframe tbody tr th {\n",
       "        vertical-align: top;\n",
       "    }\n",
       "\n",
       "    .dataframe thead th {\n",
       "        text-align: right;\n",
       "    }\n",
       "</style>\n",
       "<table border=\"1\" class=\"dataframe\">\n",
       "  <thead>\n",
       "    <tr style=\"text-align: right;\">\n",
       "      <th></th>\n",
       "      <th>UNRATE</th>\n",
       "      <th>GDP in Billion $</th>\n",
       "      <th>Number of Permits</th>\n",
       "      <th>Population in Thousands</th>\n",
       "      <th>Recession</th>\n",
       "      <th>House Tax Unit $</th>\n",
       "      <th>Total Contruction Cost in Million $</th>\n",
       "      <th>LIFE EXPECTANCY in YEARS</th>\n",
       "      <th>MORTGAGE in Percent</th>\n",
       "      <th>CPI</th>\n",
       "      <th>Inflation in Percent</th>\n",
       "      <th>House Price Index</th>\n",
       "    </tr>\n",
       "  </thead>\n",
       "  <tbody>\n",
       "    <tr>\n",
       "      <th>count</th>\n",
       "      <td>20.000000</td>\n",
       "      <td>20.000000</td>\n",
       "      <td>20.000000</td>\n",
       "      <td>20.000000</td>\n",
       "      <td>20.000000</td>\n",
       "      <td>20.000000</td>\n",
       "      <td>20.000000</td>\n",
       "      <td>19.000000</td>\n",
       "      <td>20.000000</td>\n",
       "      <td>20.000000</td>\n",
       "      <td>20.000000</td>\n",
       "      <td>20.000000</td>\n",
       "    </tr>\n",
       "    <tr>\n",
       "      <th>mean</th>\n",
       "      <td>6.012083</td>\n",
       "      <td>17183.895637</td>\n",
       "      <td>1309.350000</td>\n",
       "      <td>314817.991670</td>\n",
       "      <td>0.150000</td>\n",
       "      <td>1713.450000</td>\n",
       "      <td>95989.379167</td>\n",
       "      <td>78.112067</td>\n",
       "      <td>4.683755</td>\n",
       "      <td>232.286837</td>\n",
       "      <td>2.477744</td>\n",
       "      <td>180.658671</td>\n",
       "    </tr>\n",
       "    <tr>\n",
       "      <th>std</th>\n",
       "      <td>1.893961</td>\n",
       "      <td>3792.298608</td>\n",
       "      <td>478.827900</td>\n",
       "      <td>14027.043646</td>\n",
       "      <td>0.366348</td>\n",
       "      <td>1139.593209</td>\n",
       "      <td>23686.180924</td>\n",
       "      <td>0.741440</td>\n",
       "      <td>1.082717</td>\n",
       "      <td>31.428653</td>\n",
       "      <td>1.765183</td>\n",
       "      <td>41.948315</td>\n",
       "    </tr>\n",
       "    <tr>\n",
       "      <th>min</th>\n",
       "      <td>3.641667</td>\n",
       "      <td>11456.449500</td>\n",
       "      <td>582.000000</td>\n",
       "      <td>290626.250000</td>\n",
       "      <td>0.000000</td>\n",
       "      <td>582.000000</td>\n",
       "      <td>65936.500000</td>\n",
       "      <td>76.329268</td>\n",
       "      <td>2.957692</td>\n",
       "      <td>184.800000</td>\n",
       "      <td>-0.355546</td>\n",
       "      <td>133.731333</td>\n",
       "    </tr>\n",
       "    <tr>\n",
       "      <th>25%</th>\n",
       "      <td>4.614583</td>\n",
       "      <td>14477.106813</td>\n",
       "      <td>964.958333</td>\n",
       "      <td>303831.354150</td>\n",
       "      <td>0.000000</td>\n",
       "      <td>646.250000</td>\n",
       "      <td>76156.645830</td>\n",
       "      <td>77.587805</td>\n",
       "      <td>3.914471</td>\n",
       "      <td>214.585771</td>\n",
       "      <td>1.582875</td>\n",
       "      <td>149.966458</td>\n",
       "    </tr>\n",
       "    <tr>\n",
       "      <th>50%</th>\n",
       "      <td>5.454167</td>\n",
       "      <td>16548.582875</td>\n",
       "      <td>1307.250000</td>\n",
       "      <td>315912.208350</td>\n",
       "      <td>0.000000</td>\n",
       "      <td>1406.500000</td>\n",
       "      <td>93705.333330</td>\n",
       "      <td>78.539024</td>\n",
       "      <td>4.496250</td>\n",
       "      <td>225.031792</td>\n",
       "      <td>2.200102</td>\n",
       "      <td>171.959375</td>\n",
       "    </tr>\n",
       "    <tr>\n",
       "      <th>75%</th>\n",
       "      <td>7.537500</td>\n",
       "      <td>19741.266750</td>\n",
       "      <td>1684.541667</td>\n",
       "      <td>327343.375025</td>\n",
       "      <td>0.000000</td>\n",
       "      <td>2704.500000</td>\n",
       "      <td>107764.729200</td>\n",
       "      <td>78.665854</td>\n",
       "      <td>5.830044</td>\n",
       "      <td>253.042479</td>\n",
       "      <td>3.174117</td>\n",
       "      <td>194.168896</td>\n",
       "    </tr>\n",
       "    <tr>\n",
       "      <th>max</th>\n",
       "      <td>9.608333</td>\n",
       "      <td>25462.722250</td>\n",
       "      <td>2160.083333</td>\n",
       "      <td>333595.083300</td>\n",
       "      <td>1.000000</td>\n",
       "      <td>3423.000000</td>\n",
       "      <td>154056.333300</td>\n",
       "      <td>78.841463</td>\n",
       "      <td>6.413269</td>\n",
       "      <td>300.802083</td>\n",
       "      <td>8.002800</td>\n",
       "      <td>298.494167</td>\n",
       "    </tr>\n",
       "  </tbody>\n",
       "</table>\n",
       "</div>"
      ],
      "text/plain": [
       "          UNRATE  GDP in Billion $  Number of Permits  \\\n",
       "count  20.000000         20.000000          20.000000   \n",
       "mean    6.012083      17183.895637        1309.350000   \n",
       "std     1.893961       3792.298608         478.827900   \n",
       "min     3.641667      11456.449500         582.000000   \n",
       "25%     4.614583      14477.106813         964.958333   \n",
       "50%     5.454167      16548.582875        1307.250000   \n",
       "75%     7.537500      19741.266750        1684.541667   \n",
       "max     9.608333      25462.722250        2160.083333   \n",
       "\n",
       "       Population in Thousands  Recession  House Tax Unit $  \\\n",
       "count                20.000000  20.000000         20.000000   \n",
       "mean             314817.991670   0.150000       1713.450000   \n",
       "std               14027.043646   0.366348       1139.593209   \n",
       "min              290626.250000   0.000000        582.000000   \n",
       "25%              303831.354150   0.000000        646.250000   \n",
       "50%              315912.208350   0.000000       1406.500000   \n",
       "75%              327343.375025   0.000000       2704.500000   \n",
       "max              333595.083300   1.000000       3423.000000   \n",
       "\n",
       "       Total Contruction Cost in Million $  LIFE EXPECTANCY in YEARS  \\\n",
       "count                            20.000000                 19.000000   \n",
       "mean                          95989.379167                 78.112067   \n",
       "std                           23686.180924                  0.741440   \n",
       "min                           65936.500000                 76.329268   \n",
       "25%                           76156.645830                 77.587805   \n",
       "50%                           93705.333330                 78.539024   \n",
       "75%                          107764.729200                 78.665854   \n",
       "max                          154056.333300                 78.841463   \n",
       "\n",
       "       MORTGAGE in Percent         CPI  Inflation in Percent  \\\n",
       "count            20.000000   20.000000             20.000000   \n",
       "mean              4.683755  232.286837              2.477744   \n",
       "std               1.082717   31.428653              1.765183   \n",
       "min               2.957692  184.800000             -0.355546   \n",
       "25%               3.914471  214.585771              1.582875   \n",
       "50%               4.496250  225.031792              2.200102   \n",
       "75%               5.830044  253.042479              3.174117   \n",
       "max               6.413269  300.802083              8.002800   \n",
       "\n",
       "       House Price Index  \n",
       "count          20.000000  \n",
       "mean          180.658671  \n",
       "std            41.948315  \n",
       "min           133.731333  \n",
       "25%           149.966458  \n",
       "50%           171.959375  \n",
       "75%           194.168896  \n",
       "max           298.494167  "
      ]
     },
     "execution_count": 43,
     "metadata": {},
     "output_type": "execute_result"
    }
   ],
   "source": [
    "data.describe()"
   ]
  },
  {
   "cell_type": "code",
   "execution_count": null,
   "id": "ad90b6de",
   "metadata": {},
   "outputs": [],
   "source": []
  },
  {
   "cell_type": "markdown",
   "id": "8533a93c",
   "metadata": {},
   "source": [
    "# Treating Missing Values"
   ]
  },
  {
   "cell_type": "code",
   "execution_count": 44,
   "id": "2e0ad1a4",
   "metadata": {},
   "outputs": [
    {
     "name": "stdout",
     "output_type": "stream",
     "text": [
      "Median 78.53902439\n"
     ]
    },
    {
     "data": {
      "image/png": "[encoded data removed]",
      "text/plain": [
       "<Figure size 288x288 with 1 Axes>"
      ]
     },
     "metadata": {
      "needs_background": "light"
     },
     "output_type": "display_data"
    }
   ],
   "source": [
    "plt.figure(figsize=(4,4))\n",
    "sns.distplot(data[\"LIFE EXPECTANCY in YEARS\"],color='hotpink')\n",
    "print(\"Median\",data[\"LIFE EXPECTANCY in YEARS\"].median())"
   ]
  },
  {
   "cell_type": "code",
   "execution_count": 45,
   "id": "88a2100f",
   "metadata": {},
   "outputs": [],
   "source": [
    "data=data.fillna(data[\"LIFE EXPECTANCY in YEARS\"].median())"
   ]
  },
  {
   "cell_type": "code",
   "execution_count": 46,
   "id": "ffbcde5b",
   "metadata": {},
   "outputs": [
    {
     "data": {
      "text/plain": [
       "0     77.036585\n",
       "1     77.487805\n",
       "2     77.487805\n",
       "3     77.687805\n",
       "4     77.987805\n",
       "5     78.039024\n",
       "6     78.390244\n",
       "7     78.541463\n",
       "8     78.641463\n",
       "9     78.741463\n",
       "10    78.741463\n",
       "11    78.841463\n",
       "12    78.690244\n",
       "13    78.539024\n",
       "14    78.539024\n",
       "15    78.639024\n",
       "16    78.787805\n",
       "17    76.980488\n",
       "18    76.329268\n",
       "19    78.539024\n",
       "Name: LIFE EXPECTANCY in YEARS, dtype: float64"
      ]
     },
     "execution_count": 46,
     "metadata": {},
     "output_type": "execute_result"
    }
   ],
   "source": [
    "data[\"LIFE EXPECTANCY in YEARS\"]"
   ]
  },
  {
   "cell_type": "code",
   "execution_count": null,
   "id": "9ce1b731",
   "metadata": {},
   "outputs": [],
   "source": []
  },
  {
   "cell_type": "markdown",
   "id": "d96329dc",
   "metadata": {},
   "source": [
    "<b>Setting Date as Index as it is unique</b>"
   ]
  },
  {
   "cell_type": "code",
   "execution_count": 47,
   "id": "647f0b41",
   "metadata": {},
   "outputs": [],
   "source": [
    "data=data.set_index(\"DATE\")"
   ]
  },
  {
   "cell_type": "markdown",
   "id": "f0a8f21d",
   "metadata": {},
   "source": [
    "<b>Analyzing how factors changed over Years</b>"
   ]
  },
  {
   "cell_type": "code",
   "execution_count": 48,
   "id": "1b79f612",
   "metadata": {},
   "outputs": [],
   "source": [
    "years=[2003,2004,2005,2006,2007,2008,2009,2010,2011,2012,2013,2014,2015,2016,2017,2018,2019,2020,2021,2022]"
   ]
  },
  {
   "cell_type": "code",
   "execution_count": 49,
   "id": "5779a8d1",
   "metadata": {},
   "outputs": [
    {
     "data": {
      "image/png": "[encoded data removed]",
      "text/plain": [
       "<Figure size 1080x1080 with 12 Axes>"
      ]
     },
     "metadata": {
      "needs_background": "light"
     },
     "output_type": "display_data"
    }
   ],
   "source": [
    "nrows = 3\n",
    "ncols = 4\n",
    "repeater = 1\n",
    "plt.figure(figsize=(15, 15))\n",
    "plt.xticks(years,rotation=70,fontsize=50)\n",
    "\n",
    "for i in data.columns:\n",
    "    plt.subplot(nrows, ncols, repeater)\n",
    "    plt.bar(years,data.loc[:, i],color='blue')\n",
    "    plt.xlabel(\"Years\")\n",
    "    plt.ylabel(str(i))\n",
    "    repeater = repeater+1\n",
    "    \n",
    "plt.tight_layout()\n",
    "plt.show()"
   ]
  },
  {
   "cell_type": "code",
   "execution_count": 50,
   "id": "aac2c058",
   "metadata": {},
   "outputs": [
    {
     "data": {
      "text/plain": [
       "Index(['UNRATE', 'GDP in Billion $', 'Number of Permits',\n",
       "       'Population in Thousands', 'Recession', 'House Tax Unit $',\n",
       "       'Total Contruction Cost in Million $', 'LIFE EXPECTANCY in YEARS',\n",
       "       'MORTGAGE in Percent', 'CPI', 'Inflation in Percent',\n",
       "       'House Price Index'],\n",
       "      dtype='object')"
      ]
     },
     "execution_count": 50,
     "metadata": {},
     "output_type": "execute_result"
    }
   ],
   "source": [
    "data.columns"
   ]
  },
  {
   "cell_type": "markdown",
   "id": "d57cd7da",
   "metadata": {},
   "source": [
    "<b>Numerical Columns</b>"
   ]
  },
  {
   "cell_type": "code",
   "execution_count": 51,
   "id": "59b04eeb",
   "metadata": {},
   "outputs": [],
   "source": [
    "num_cols=['UNRATE', 'GDP in Billion $', 'Number of Permits',\n",
    "       'Population in Thousands', 'House Tax Unit $ ',\n",
    "       'Total Contruction Cost in Million $', 'LIFE EXPECTANCY in YEARS',\n",
    "       'MORTGAGE in Percent', 'CPI', 'Inflation in Percent']"
   ]
  },
  {
   "cell_type": "code",
   "execution_count": null,
   "id": "418d6c22",
   "metadata": {},
   "outputs": [],
   "source": []
  },
  {
   "cell_type": "markdown",
   "id": "c2325712",
   "metadata": {},
   "source": [
    "# Outlier Analysis"
   ]
  },
  {
   "cell_type": "code",
   "execution_count": 65,
   "id": "1c70f22f",
   "metadata": {},
   "outputs": [
    {
     "data": {
      "text/plain": [
       "<AxesSubplot:>"
      ]
     },
     "execution_count": 65,
     "metadata": {},
     "output_type": "execute_result"
    },
    {
     "data": {
      "image/png": "[encoded data removed]",
      "text/plain": [
       "<Figure size 720x360 with 1 Axes>"
      ]
     },
     "metadata": {
      "needs_background": "light"
     },
     "output_type": "display_data"
    }
   ],
   "source": [
    "plt.figure(figsize=(10, 5))\n",
    "data['UNRATE'].plot.box()"
   ]
  },
  {
   "cell_type": "code",
   "execution_count": 66,
   "id": "aa621de0",
   "metadata": {},
   "outputs": [
    {
     "data": {
      "text/plain": [
       "<AxesSubplot:>"
      ]
     },
     "execution_count": 66,
     "metadata": {},
     "output_type": "execute_result"
    },
    {
     "data": {
      "image/png": "[encoded data removed]",
      "text/plain": [
       "<Figure size 720x360 with 1 Axes>"
      ]
     },
     "metadata": {
      "needs_background": "light"
     },
     "output_type": "display_data"
    }
   ],
   "source": [
    "plt.figure(figsize=(10, 5))\n",
    "data['GDP in Billion $'].plot.box()"
   ]
  },
  {
   "cell_type": "code",
   "execution_count": 67,
   "id": "e4d8106c",
   "metadata": {},
   "outputs": [
    {
     "data": {
      "text/plain": [
       "<AxesSubplot:>"
      ]
     },
     "execution_count": 67,
     "metadata": {},
     "output_type": "execute_result"
    },
    {
     "data": {
      "image/png": "[encoded data removed]",
      "text/plain": [
       "<Figure size 720x360 with 1 Axes>"
      ]
     },
     "metadata": {
      "needs_background": "light"
     },
     "output_type": "display_data"
    }
   ],
   "source": [
    "plt.figure(figsize=(10, 5))\n",
    "data['Number of Permits'].plot.box()"
   ]
  },
  {
   "cell_type": "code",
   "execution_count": 68,
   "id": "a44c2e17",
   "metadata": {},
   "outputs": [
    {
     "data": {
      "text/plain": [
       "<AxesSubplot:>"
      ]
     },
     "execution_count": 68,
     "metadata": {},
     "output_type": "execute_result"
    },
    {
     "data": {
      "image/png": "[encoded data removed]",
      "text/plain": [
       "<Figure size 720x360 with 1 Axes>"
      ]
     },
     "metadata": {
      "needs_background": "light"
     },
     "output_type": "display_data"
    }
   ],
   "source": [
    "plt.figure(figsize=(10, 5))\n",
    "data['Population in Thousands'].plot.box()"
   ]
  },
  {
   "cell_type": "code",
   "execution_count": 69,
   "id": "946293d3",
   "metadata": {},
   "outputs": [
    {
     "data": {
      "text/plain": [
       "<AxesSubplot:>"
      ]
     },
     "execution_count": 69,
     "metadata": {},
     "output_type": "execute_result"
    },
    {
     "data": {
      "image/png": "[encoded data removed]",
      "text/plain": [
       "<Figure size 720x360 with 1 Axes>"
      ]
     },
     "metadata": {
      "needs_background": "light"
     },
     "output_type": "display_data"
    }
   ],
   "source": [
    "plt.figure(figsize=(10, 5))\n",
    "data['House Tax Unit $'].plot.box()"
   ]
  },
  {
   "cell_type": "code",
   "execution_count": 70,
   "id": "6c03c211",
   "metadata": {},
   "outputs": [
    {
     "data": {
      "text/plain": [
       "<AxesSubplot:>"
      ]
     },
     "execution_count": 70,
     "metadata": {},
     "output_type": "execute_result"
    },
    {
     "data": {
      "image/png": "[encoded data removed]",
      "text/plain": [
       "<Figure size 720x360 with 1 Axes>"
      ]
     },
     "metadata": {
      "needs_background": "light"
     },
     "output_type": "display_data"
    }
   ],
   "source": [
    "plt.figure(figsize=(10, 5))\n",
    "data['Total Contruction Cost in Million $'].plot.box()"
   ]
  },
  {
   "cell_type": "code",
   "execution_count": 71,
   "id": "6257d026",
   "metadata": {},
   "outputs": [
    {
     "data": {
      "text/plain": [
       "<AxesSubplot:>"
      ]
     },
     "execution_count": 71,
     "metadata": {},
     "output_type": "execute_result"
    },
    {
     "data": {
      "image/png": "[encoded data removed]",
      "text/plain": [
       "<Figure size 720x360 with 1 Axes>"
      ]
     },
     "metadata": {
      "needs_background": "light"
     },
     "output_type": "display_data"
    }
   ],
   "source": [
    "plt.figure(figsize=(10, 5))\n",
    "data['LIFE EXPECTANCY in YEARS'].plot.box()"
   ]
  },
  {
   "cell_type": "code",
   "execution_count": 72,
   "id": "fb684cb3",
   "metadata": {},
   "outputs": [
    {
     "data": {
      "text/plain": [
       "<AxesSubplot:>"
      ]
     },
     "execution_count": 72,
     "metadata": {},
     "output_type": "execute_result"
    },
    {
     "data": {
      "image/png": "[encoded data removed]",
      "text/plain": [
       "<Figure size 720x360 with 1 Axes>"
      ]
     },
     "metadata": {
      "needs_background": "light"
     },
     "output_type": "display_data"
    }
   ],
   "source": [
    "plt.figure(figsize=(10, 5))\n",
    "data['MORTGAGE in Percent'].plot.box()"
   ]
  },
  {
   "cell_type": "code",
   "execution_count": 73,
   "id": "18321925",
   "metadata": {},
   "outputs": [
    {
     "data": {
      "text/plain": [
       "<AxesSubplot:>"
      ]
     },
     "execution_count": 73,
     "metadata": {},
     "output_type": "execute_result"
    },
    {
     "data": {
      "image/png": "[encoded data removed]",
      "text/plain": [
       "<Figure size 720x360 with 1 Axes>"
      ]
     },
     "metadata": {
      "needs_background": "light"
     },
     "output_type": "display_data"
    }
   ],
   "source": [
    "plt.figure(figsize=(10, 5))\n",
    "data['CPI'].plot.box()"
   ]
  },
  {
   "cell_type": "code",
   "execution_count": 74,
   "id": "a3f1e924",
   "metadata": {},
   "outputs": [
    {
     "data": {
      "text/plain": [
       "<AxesSubplot:>"
      ]
     },
     "execution_count": 74,
     "metadata": {},
     "output_type": "execute_result"
    },
    {
     "data": {
      "image/png": "[encoded data removed]",
      "text/plain": [
       "<Figure size 720x360 with 1 Axes>"
      ]
     },
     "metadata": {
      "needs_background": "light"
     },
     "output_type": "display_data"
    }
   ],
   "source": [
    "plt.figure(figsize=(10, 5))\n",
    "data['Inflation in Percent'].plot.box()"
   ]
  },
  {
   "cell_type": "markdown",
   "id": "eb5910ba",
   "metadata": {},
   "source": [
    "Inflation has some outlier, let's remove them using IQR Method."
   ]
  },
  {
   "cell_type": "code",
   "execution_count": 85,
   "id": "84cf6c58",
   "metadata": {},
   "outputs": [],
   "source": [
    "q1 = data[\"Inflation in Percent\"].quantile(0.25)\n",
    "q3 = data[\"Inflation in Percent\"].quantile(0.75)\n",
    "iqr = q3 - q1\n",
    "ul=q3+1.5*iqr\n",
    "ll=q1-1.5*iqr\n",
    "data[\"Inflation in Percent\"]=data[\"Inflation in Percent\"][~((data[\"Inflation in Percent\"]>ul)|(data[\"Inflation in Percent\"]<ll))]"
   ]
  },
  {
   "cell_type": "markdown",
   "id": "94d7eac1",
   "metadata": {},
   "source": [
    "Filling the NaN value with median which was removed in IQR"
   ]
  },
  {
   "cell_type": "code",
   "execution_count": 86,
   "id": "0b4ee68d",
   "metadata": {},
   "outputs": [],
   "source": [
    "data=data.fillna(data[\"Inflation in Percent\"].median())"
   ]
  },
  {
   "cell_type": "code",
   "execution_count": 88,
   "id": "ccaf0f2a",
   "metadata": {},
   "outputs": [
    {
     "data": {
      "text/plain": [
       "<AxesSubplot:>"
      ]
     },
     "execution_count": 88,
     "metadata": {},
     "output_type": "execute_result"
    },
    {
     "data": {
      "image/png": "[encoded data removed]",
      "text/plain": [
       "<Figure size 720x360 with 1 Axes>"
      ]
     },
     "metadata": {
      "needs_background": "light"
     },
     "output_type": "display_data"
    }
   ],
   "source": [
    "plt.figure(figsize=(10, 5))\n",
    "data['Inflation in Percent'].plot.box()"
   ]
  },
  {
   "cell_type": "markdown",
   "id": "6cc9d642",
   "metadata": {},
   "source": [
    "# Univaritae Analysis"
   ]
  },
  {
   "cell_type": "code",
   "execution_count": 89,
   "id": "8f2c59a5",
   "metadata": {},
   "outputs": [
    {
     "data": {
      "image/png": "[encoded data removed]",
      "text/plain": [
       "<Figure size 1080x720 with 12 Axes>"
      ]
     },
     "metadata": {
      "needs_background": "light"
     },
     "output_type": "display_data"
    }
   ],
   "source": [
    "nrows = 3\n",
    "ncols = 4\n",
    "repeater = 1\n",
    "plt.figure(figsize=(15, 10))\n",
    "\n",
    "for i in data.columns:\n",
    "    plt.subplot(nrows, ncols, repeater)\n",
    "    sns.distplot(data.loc[:, i],color='k')\n",
    "    repeater = repeater+1\n",
    "    \n",
    "plt.tight_layout()\n",
    "plt.show()"
   ]
  },
  {
   "cell_type": "markdown",
   "id": "b58d4211",
   "metadata": {},
   "source": [
    "<b>Inferences</b>\n",
    "\n",
    "Data is mostly normal, House Tax shows bimodal data"
   ]
  },
  {
   "cell_type": "markdown",
   "id": "45d51b9d",
   "metadata": {},
   "source": [
    "# Bivariate Analysis"
   ]
  },
  {
   "cell_type": "markdown",
   "id": "12a59e95",
   "metadata": {},
   "source": [
    "<b>Target vs Numeric Variables Scatterplot</b>"
   ]
  },
  {
   "cell_type": "code",
   "execution_count": 90,
   "id": "4f80292b",
   "metadata": {},
   "outputs": [
    {
     "data": {
      "image/png": "[encoded data removed]",
      "text/plain": [
       "<Figure size 720x720 with 12 Axes>"
      ]
     },
     "metadata": {
      "needs_background": "light"
     },
     "output_type": "display_data"
    }
   ],
   "source": [
    "nrows = 3\n",
    "ncols = 4\n",
    "repeater = 1\n",
    "plt.figure(figsize=(10, 10))\n",
    "#plt.xticks(years,rotation=70,fontsize=50)\n",
    "\n",
    "for i in data.columns:\n",
    "    plt.subplot(nrows, ncols, repeater)\n",
    "    sns.scatterplot(x=data.loc[:, i],y=data[\"House Price Index\"],color='blue')\n",
    "    plt.xlabel(str(i))\n",
    "    plt.ylabel(\"House Price Index(Target)\")\n",
    "    repeater = repeater+1\n",
    "    \n",
    "plt.tight_layout()\n",
    "plt.show()"
   ]
  },
  {
   "cell_type": "markdown",
   "id": "1281f592",
   "metadata": {},
   "source": [
    "# Correlation Matrix"
   ]
  },
  {
   "cell_type": "code",
   "execution_count": 91,
   "id": "48413b1c",
   "metadata": {},
   "outputs": [
    {
     "data": {
      "image/png": "[encoded data removed]",
      "text/plain": [
       "<Figure size 864x864 with 2 Axes>"
      ]
     },
     "metadata": {
      "needs_background": "light"
     },
     "output_type": "display_data"
    }
   ],
   "source": [
    "plt.subplots(figsize=(12,12))\n",
    "sns.heatmap(data.drop(\"CPI\",axis=1).corr(),annot=True,annot_kws={'size':15})\n",
    "plt.show()"
   ]
  },
  {
   "cell_type": "markdown",
   "id": "d9d88a3a",
   "metadata": {},
   "source": [
    "# Multicollinearity Check"
   ]
  },
  {
   "cell_type": "code",
   "execution_count": 92,
   "id": "5276bbc8",
   "metadata": {},
   "outputs": [],
   "source": [
    "vif_data=pd.DataFrame()\n",
    "vif_data['Features']=data.columns"
   ]
  },
  {
   "cell_type": "code",
   "execution_count": 93,
   "id": "a17287fb",
   "metadata": {},
   "outputs": [],
   "source": [
    "vif_data[\"VIF\"] = [variance_inflation_factor(data.values, i)\n",
    "                          for i in range(len(data.columns))]"
   ]
  },
  {
   "cell_type": "code",
   "execution_count": 94,
   "id": "27e45403",
   "metadata": {},
   "outputs": [
    {
     "data": {
      "text/html": [
       "<div>\n",
       "<style scoped>\n",
       "    .dataframe tbody tr th:only-of-type {\n",
       "        vertical-align: middle;\n",
       "    }\n",
       "\n",
       "    .dataframe tbody tr th {\n",
       "        vertical-align: top;\n",
       "    }\n",
       "\n",
       "    .dataframe thead th {\n",
       "        text-align: right;\n",
       "    }\n",
       "</style>\n",
       "<table border=\"1\" class=\"dataframe\">\n",
       "  <thead>\n",
       "    <tr style=\"text-align: right;\">\n",
       "      <th></th>\n",
       "      <th>Features</th>\n",
       "      <th>VIF</th>\n",
       "    </tr>\n",
       "  </thead>\n",
       "  <tbody>\n",
       "    <tr>\n",
       "      <th>9</th>\n",
       "      <td>CPI</td>\n",
       "      <td>192426.038460</td>\n",
       "    </tr>\n",
       "    <tr>\n",
       "      <th>3</th>\n",
       "      <td>Population in Thousands</td>\n",
       "      <td>174991.738215</td>\n",
       "    </tr>\n",
       "    <tr>\n",
       "      <th>7</th>\n",
       "      <td>LIFE EXPECTANCY in YEARS</td>\n",
       "      <td>150112.854064</td>\n",
       "    </tr>\n",
       "    <tr>\n",
       "      <th>1</th>\n",
       "      <td>GDP in Billion $</td>\n",
       "      <td>70188.533481</td>\n",
       "    </tr>\n",
       "    <tr>\n",
       "      <th>6</th>\n",
       "      <td>Total Contruction Cost in Million $</td>\n",
       "      <td>26808.008318</td>\n",
       "    </tr>\n",
       "    <tr>\n",
       "      <th>11</th>\n",
       "      <td>House Price Index</td>\n",
       "      <td>16131.558019</td>\n",
       "    </tr>\n",
       "    <tr>\n",
       "      <th>0</th>\n",
       "      <td>UNRATE</td>\n",
       "      <td>1133.165761</td>\n",
       "    </tr>\n",
       "    <tr>\n",
       "      <th>8</th>\n",
       "      <td>MORTGAGE in Percent</td>\n",
       "      <td>958.517866</td>\n",
       "    </tr>\n",
       "    <tr>\n",
       "      <th>2</th>\n",
       "      <td>Number of Permits</td>\n",
       "      <td>369.353091</td>\n",
       "    </tr>\n",
       "    <tr>\n",
       "      <th>5</th>\n",
       "      <td>House Tax Unit $</td>\n",
       "      <td>221.251298</td>\n",
       "    </tr>\n",
       "    <tr>\n",
       "      <th>10</th>\n",
       "      <td>Inflation in Percent</td>\n",
       "      <td>22.299971</td>\n",
       "    </tr>\n",
       "    <tr>\n",
       "      <th>4</th>\n",
       "      <td>Recession</td>\n",
       "      <td>13.885379</td>\n",
       "    </tr>\n",
       "  </tbody>\n",
       "</table>\n",
       "</div>"
      ],
      "text/plain": [
       "                               Features            VIF\n",
       "9                                   CPI  192426.038460\n",
       "3               Population in Thousands  174991.738215\n",
       "7              LIFE EXPECTANCY in YEARS  150112.854064\n",
       "1                      GDP in Billion $   70188.533481\n",
       "6   Total Contruction Cost in Million $   26808.008318\n",
       "11                    House Price Index   16131.558019\n",
       "0                                UNRATE    1133.165761\n",
       "8                   MORTGAGE in Percent     958.517866\n",
       "2                     Number of Permits     369.353091\n",
       "5                      House Tax Unit $     221.251298\n",
       "10                 Inflation in Percent      22.299971\n",
       "4                             Recession      13.885379"
      ]
     },
     "execution_count": 94,
     "metadata": {},
     "output_type": "execute_result"
    }
   ],
   "source": [
    "vif_data.sort_values(\"VIF\",ascending=False)"
   ]
  },
  {
   "cell_type": "markdown",
   "id": "85cb36c2",
   "metadata": {},
   "source": [
    "<b>CPI shows high multicollinearity</b>"
   ]
  },
  {
   "cell_type": "markdown",
   "id": "10a55299",
   "metadata": {},
   "source": [
    "# Train-Test Split"
   ]
  },
  {
   "cell_type": "code",
   "execution_count": 96,
   "id": "468be21c",
   "metadata": {},
   "outputs": [],
   "source": [
    "Target=data[\"House Price Index\"]\n",
    "X=data.drop(\"House Price Index\",axis=1)"
   ]
  },
  {
   "cell_type": "code",
   "execution_count": 107,
   "id": "687dd0e1",
   "metadata": {},
   "outputs": [],
   "source": [
    "num_cols=['UNRATE', 'GDP in Billion $', 'Number of Permits',\n",
    "       'Population in Thousands', 'House Tax Unit $ ',\n",
    "       'Total Contruction Cost in Million $', 'LIFE EXPECTANCY in YEARS',\n",
    "       'MORTGAGE in Percent', 'CPI', 'Inflation in Percent']"
   ]
  },
  {
   "cell_type": "code",
   "execution_count": 108,
   "id": "0cf019b6",
   "metadata": {},
   "outputs": [],
   "source": [
    "X_train,X_test,y_train,y_test=train_test_split(X,Target,test_size=0.3)"
   ]
  },
  {
   "cell_type": "code",
   "execution_count": null,
   "id": "8b3bbe0b",
   "metadata": {},
   "outputs": [],
   "source": []
  },
  {
   "cell_type": "markdown",
   "id": "ba3b734c",
   "metadata": {},
   "source": [
    "# Standard Scaling"
   ]
  },
  {
   "cell_type": "code",
   "execution_count": null,
   "id": "f978f1d4",
   "metadata": {},
   "outputs": [],
   "source": []
  },
  {
   "cell_type": "code",
   "execution_count": null,
   "id": "9527da1e",
   "metadata": {},
   "outputs": [],
   "source": []
  },
  {
   "cell_type": "code",
   "execution_count": null,
   "id": "0c07239d",
   "metadata": {},
   "outputs": [],
   "source": []
  },
  {
   "cell_type": "markdown",
   "id": "083933a6",
   "metadata": {},
   "source": [
    "<b>Base Model (inear Regression using OLS) Full Model</b>"
   ]
  },
  {
   "cell_type": "code",
   "execution_count": 110,
   "id": "36297e06",
   "metadata": {},
   "outputs": [],
   "source": [
    "X_c=sm.add_constant(X_train)"
   ]
  },
  {
   "cell_type": "code",
   "execution_count": 111,
   "id": "7aed0ca1",
   "metadata": {},
   "outputs": [],
   "source": [
    "base_model=sm.OLS(y_train,X_c).fit()"
   ]
  },
  {
   "cell_type": "code",
   "execution_count": 112,
   "id": "8e9e9e68",
   "metadata": {},
   "outputs": [
    {
     "data": {
      "text/html": [
       "<table class=\"simpletable\">\n",
       "<caption>OLS Regression Results</caption>\n",
       "<tr>\n",
       "  <th>Dep. Variable:</th>    <td>House Price Index</td> <th>  R-squared:         </th> <td>   1.000</td>\n",
       "</tr>\n",
       "<tr>\n",
       "  <th>Model:</th>                   <td>OLS</td>        <th>  Adj. R-squared:    </th> <td>   1.000</td>\n",
       "</tr>\n",
       "<tr>\n",
       "  <th>Method:</th>             <td>Least Squares</td>   <th>  F-statistic:       </th> <td>   3927.</td>\n",
       "</tr>\n",
       "<tr>\n",
       "  <th>Date:</th>             <td>Mon, 11 Dec 2023</td>  <th>  Prob (F-statistic):</th> <td>0.000255</td>\n",
       "</tr>\n",
       "<tr>\n",
       "  <th>Time:</th>                 <td>21:01:04</td>      <th>  Log-Likelihood:    </th> <td> -3.4990</td>\n",
       "</tr>\n",
       "<tr>\n",
       "  <th>No. Observations:</th>      <td>    14</td>       <th>  AIC:               </th> <td>   31.00</td>\n",
       "</tr>\n",
       "<tr>\n",
       "  <th>Df Residuals:</th>          <td>     2</td>       <th>  BIC:               </th> <td>   38.67</td>\n",
       "</tr>\n",
       "<tr>\n",
       "  <th>Df Model:</th>              <td>    11</td>       <th>                     </th>     <td> </td>   \n",
       "</tr>\n",
       "<tr>\n",
       "  <th>Covariance Type:</th>      <td>nonrobust</td>     <th>                     </th>     <td> </td>   \n",
       "</tr>\n",
       "</table>\n",
       "<table class=\"simpletable\">\n",
       "<tr>\n",
       "                   <td></td>                      <th>coef</th>     <th>std err</th>      <th>t</th>      <th>P>|t|</th>  <th>[0.025</th>    <th>0.975]</th>  \n",
       "</tr>\n",
       "<tr>\n",
       "  <th>const</th>                               <td> -870.2322</td> <td>  302.244</td> <td>   -2.879</td> <td> 0.102</td> <td>-2170.682</td> <td>  430.217</td>\n",
       "</tr>\n",
       "<tr>\n",
       "  <th>UNRATE</th>                              <td>   11.2273</td> <td>    1.587</td> <td>    7.075</td> <td> 0.019</td> <td>    4.400</td> <td>   18.055</td>\n",
       "</tr>\n",
       "<tr>\n",
       "  <th>GDP in Billion $</th>                    <td>   -0.0084</td> <td>    0.010</td> <td>   -0.881</td> <td> 0.471</td> <td>   -0.050</td> <td>    0.033</td>\n",
       "</tr>\n",
       "<tr>\n",
       "  <th>Number of Permits</th>                   <td>    0.0055</td> <td>    0.005</td> <td>    1.118</td> <td> 0.380</td> <td>   -0.016</td> <td>    0.027</td>\n",
       "</tr>\n",
       "<tr>\n",
       "  <th>Population in Thousands</th>             <td>   -0.0009</td> <td>    0.000</td> <td>   -2.796</td> <td> 0.108</td> <td>   -0.002</td> <td>    0.000</td>\n",
       "</tr>\n",
       "<tr>\n",
       "  <th>Recession</th>                           <td>   -7.3498</td> <td>    3.457</td> <td>   -2.126</td> <td> 0.167</td> <td>  -22.225</td> <td>    7.525</td>\n",
       "</tr>\n",
       "<tr>\n",
       "  <th>House Tax Unit $</th>                    <td>    0.0175</td> <td>    0.005</td> <td>    3.368</td> <td> 0.078</td> <td>   -0.005</td> <td>    0.040</td>\n",
       "</tr>\n",
       "<tr>\n",
       "  <th>Total Contruction Cost in Million $</th> <td>    0.0022</td> <td>    0.000</td> <td>   13.052</td> <td> 0.006</td> <td>    0.001</td> <td>    0.003</td>\n",
       "</tr>\n",
       "<tr>\n",
       "  <th>LIFE EXPECTANCY in YEARS</th>            <td>   11.8736</td> <td>    2.888</td> <td>    4.111</td> <td> 0.054</td> <td>   -0.554</td> <td>   24.301</td>\n",
       "</tr>\n",
       "<tr>\n",
       "  <th>MORTGAGE in Percent</th>                 <td>    2.6374</td> <td>    1.767</td> <td>    1.493</td> <td> 0.274</td> <td>   -4.965</td> <td>   10.239</td>\n",
       "</tr>\n",
       "<tr>\n",
       "  <th>CPI</th>                                 <td>    0.9317</td> <td>    1.021</td> <td>    0.913</td> <td> 0.458</td> <td>   -3.459</td> <td>    5.323</td>\n",
       "</tr>\n",
       "<tr>\n",
       "  <th>Inflation in Percent</th>                <td>    5.8250</td> <td>    1.819</td> <td>    3.201</td> <td> 0.085</td> <td>   -2.004</td> <td>   13.654</td>\n",
       "</tr>\n",
       "</table>\n",
       "<table class=\"simpletable\">\n",
       "<tr>\n",
       "  <th>Omnibus:</th>       <td> 1.621</td> <th>  Durbin-Watson:     </th> <td>   1.671</td>\n",
       "</tr>\n",
       "<tr>\n",
       "  <th>Prob(Omnibus):</th> <td> 0.445</td> <th>  Jarque-Bera (JB):  </th> <td>   0.400</td>\n",
       "</tr>\n",
       "<tr>\n",
       "  <th>Skew:</th>          <td> 0.387</td> <th>  Prob(JB):          </th> <td>   0.819</td>\n",
       "</tr>\n",
       "<tr>\n",
       "  <th>Kurtosis:</th>      <td> 3.295</td> <th>  Cond. No.          </th> <td>4.53e+08</td>\n",
       "</tr>\n",
       "</table><br/><br/>Notes:<br/>[1] Standard Errors assume that the covariance matrix of the errors is correctly specified.<br/>[2] The condition number is large, 4.53e+08. This might indicate that there are<br/>strong multicollinearity or other numerical problems."
      ],
      "text/plain": [
       "<class 'statsmodels.iolib.summary.Summary'>\n",
       "\"\"\"\n",
       "                            OLS Regression Results                            \n",
       "==============================================================================\n",
       "Dep. Variable:      House Price Index   R-squared:                       1.000\n",
       "Model:                            OLS   Adj. R-squared:                  1.000\n",
       "Method:                 Least Squares   F-statistic:                     3927.\n",
       "Date:                Mon, 11 Dec 2023   Prob (F-statistic):           0.000255\n",
       "Time:                        21:01:04   Log-Likelihood:                -3.4990\n",
       "No. Observations:                  14   AIC:                             31.00\n",
       "Df Residuals:                       2   BIC:                             38.67\n",
       "Df Model:                          11                                         \n",
       "Covariance Type:            nonrobust                                         \n",
       "=======================================================================================================\n",
       "                                          coef    std err          t      P>|t|      [0.025      0.975]\n",
       "-------------------------------------------------------------------------------------------------------\n",
       "const                                -870.2322    302.244     -2.879      0.102   -2170.682     430.217\n",
       "UNRATE                                 11.2273      1.587      7.075      0.019       4.400      18.055\n",
       "GDP in Billion $                       -0.0084      0.010     -0.881      0.471      -0.050       0.033\n",
       "Number of Permits                       0.0055      0.005      1.118      0.380      -0.016       0.027\n",
       "Population in Thousands                -0.0009      0.000     -2.796      0.108      -0.002       0.000\n",
       "Recession                              -7.3498      3.457     -2.126      0.167     -22.225       7.525\n",
       "House Tax Unit $                        0.0175      0.005      3.368      0.078      -0.005       0.040\n",
       "Total Contruction Cost in Million $     0.0022      0.000     13.052      0.006       0.001       0.003\n",
       "LIFE EXPECTANCY in YEARS               11.8736      2.888      4.111      0.054      -0.554      24.301\n",
       "MORTGAGE in Percent                     2.6374      1.767      1.493      0.274      -4.965      10.239\n",
       "CPI                                     0.9317      1.021      0.913      0.458      -3.459       5.323\n",
       "Inflation in Percent                    5.8250      1.819      3.201      0.085      -2.004      13.654\n",
       "==============================================================================\n",
       "Omnibus:                        1.621   Durbin-Watson:                   1.671\n",
       "Prob(Omnibus):                  0.445   Jarque-Bera (JB):                0.400\n",
       "Skew:                           0.387   Prob(JB):                        0.819\n",
       "Kurtosis:                       3.295   Cond. No.                     4.53e+08\n",
       "==============================================================================\n",
       "\n",
       "Notes:\n",
       "[1] Standard Errors assume that the covariance matrix of the errors is correctly specified.\n",
       "[2] The condition number is large, 4.53e+08. This might indicate that there are\n",
       "strong multicollinearity or other numerical problems.\n",
       "\"\"\""
      ]
     },
     "execution_count": 112,
     "metadata": {},
     "output_type": "execute_result"
    }
   ],
   "source": [
    "base_model.summary()"
   ]
  },
  {
   "cell_type": "markdown",
   "id": "a26c6245",
   "metadata": {},
   "source": [
    "# Feature Selection"
   ]
  },
  {
   "cell_type": "code",
   "execution_count": 113,
   "id": "b65c2aaf",
   "metadata": {},
   "outputs": [
    {
     "data": {
      "text/plain": [
       "('UNRATE',\n",
       " 'GDP in Billion $',\n",
       " 'Number of Permits',\n",
       " 'Population in Thousands',\n",
       " 'Recession',\n",
       " 'House Tax Unit $',\n",
       " 'Total Contruction Cost in Million $',\n",
       " 'LIFE EXPECTANCY in YEARS',\n",
       " 'MORTGAGE in Percent',\n",
       " 'CPI',\n",
       " 'Inflation in Percent')"
      ]
     },
     "execution_count": 113,
     "metadata": {},
     "output_type": "execute_result"
    }
   ],
   "source": [
    "sbs = sfs(LinearRegression(),\n",
    "         k_features=11,\n",
    "         forward=False,\n",
    "         floating=False,\n",
    "         cv=0)\n",
    "sbs.fit(X_train, y_train)\n",
    "sbs.k_feature_names_"
   ]
  },
  {
   "cell_type": "code",
   "execution_count": 114,
   "id": "ceed76c9",
   "metadata": {},
   "outputs": [],
   "source": [
    "def mod(model,X_train,X_test,y_train,y_test):\n",
    "    mod_=model.fit(X_train,y_train)\n",
    "    y_pred=model.predict(X_test)\n",
    "    mse=mean_squared_error(y_test,y_pred)\n",
    "    print(\"MSE:\",mse)\n",
    "    print(\"RMSE:\",np.sqrt(mse))"
   ]
  },
  {
   "cell_type": "code",
   "execution_count": null,
   "id": "4523f8f1",
   "metadata": {},
   "outputs": [],
   "source": []
  },
  {
   "cell_type": "markdown",
   "id": "ffde17af",
   "metadata": {},
   "source": [
    "# Model Building using Selected Featured"
   ]
  },
  {
   "cell_type": "code",
   "execution_count": 115,
   "id": "0a57f27a",
   "metadata": {},
   "outputs": [],
   "source": [
    "X_train_=X_train.loc[:,sbs.k_feature_names_]"
   ]
  },
  {
   "cell_type": "code",
   "execution_count": 116,
   "id": "f318e615",
   "metadata": {},
   "outputs": [],
   "source": [
    "X_test_=X_test.loc[:,sbs.k_feature_names_]"
   ]
  },
  {
   "cell_type": "markdown",
   "id": "ca171094",
   "metadata": {},
   "source": [
    "# XGBoost Regressor with default parameters"
   ]
  },
  {
   "cell_type": "code",
   "execution_count": 117,
   "id": "8c75e90e",
   "metadata": {},
   "outputs": [
    {
     "name": "stdout",
     "output_type": "stream",
     "text": [
      "MSE: 403.40518942635157\n",
      "RMSE: 20.084949325959265\n"
     ]
    }
   ],
   "source": [
    "mod(XGBRegressor(n_estimators=250),X_train_,X_test_,y_train,y_test)"
   ]
  },
  {
   "cell_type": "markdown",
   "id": "136df680",
   "metadata": {},
   "source": [
    "# GradientBoost Regressor with default parameters"
   ]
  },
  {
   "cell_type": "code",
   "execution_count": 118,
   "id": "587bb95c",
   "metadata": {},
   "outputs": [
    {
     "name": "stdout",
     "output_type": "stream",
     "text": [
      "MSE: 125.45815677926369\n",
      "RMSE: 11.200810541173514\n"
     ]
    }
   ],
   "source": [
    "mod(GradientBoostingRegressor(),X_train_,X_test_,y_train,y_test)"
   ]
  },
  {
   "cell_type": "markdown",
   "id": "29a801c1",
   "metadata": {},
   "source": [
    "# AdaBoost Regressor with deafult parameters"
   ]
  },
  {
   "cell_type": "code",
   "execution_count": 119,
   "id": "ac8329f0",
   "metadata": {},
   "outputs": [
    {
     "name": "stdout",
     "output_type": "stream",
     "text": [
      "MSE: 319.2860202182092\n",
      "RMSE: 17.868576334398025\n"
     ]
    }
   ],
   "source": [
    "mod(AdaBoostRegressor(),X_train_,X_test_,y_train,y_test)"
   ]
  },
  {
   "cell_type": "markdown",
   "id": "a4337f8f",
   "metadata": {},
   "source": [
    "# Random Forest Regressor with default parameters"
   ]
  },
  {
   "cell_type": "code",
   "execution_count": 120,
   "id": "0f540c2e",
   "metadata": {},
   "outputs": [
    {
     "name": "stdout",
     "output_type": "stream",
     "text": [
      "MSE: 77.59182052438491\n",
      "RMSE: 8.808621942414428\n"
     ]
    }
   ],
   "source": [
    "mod(RandomForestRegressor(),X_train_,X_test_,y_train,y_test)"
   ]
  },
  {
   "cell_type": "markdown",
   "id": "fd125ace",
   "metadata": {},
   "source": [
    "# Decision Tree Regressor with default parameters"
   ]
  },
  {
   "cell_type": "code",
   "execution_count": 121,
   "id": "3a996e36",
   "metadata": {},
   "outputs": [
    {
     "name": "stdout",
     "output_type": "stream",
     "text": [
      "MSE: 371.12456536908576\n",
      "RMSE: 19.26459356874901\n"
     ]
    }
   ],
   "source": [
    "mod(DecisionTreeRegressor(),X_train_,X_test_,y_train,y_test)"
   ]
  },
  {
   "cell_type": "markdown",
   "id": "c28a1a53",
   "metadata": {},
   "source": [
    "# KNeighbors Regressor using default parameters"
   ]
  },
  {
   "cell_type": "code",
   "execution_count": 122,
   "id": "92d37918",
   "metadata": {},
   "outputs": [
    {
     "name": "stdout",
     "output_type": "stream",
     "text": [
      "MSE: 259.5995178750774\n",
      "RMSE: 16.112092287318784\n"
     ]
    }
   ],
   "source": [
    "mod(KNeighborsRegressor(),X_train_,X_test_,y_train,y_test)"
   ]
  },
  {
   "cell_type": "markdown",
   "id": "58d93a6c",
   "metadata": {},
   "source": [
    "# CatBoost Regressor with default parameters"
   ]
  },
  {
   "cell_type": "code",
   "execution_count": 123,
   "id": "9070e0bf",
   "metadata": {},
   "outputs": [
    {
     "name": "stdout",
     "output_type": "stream",
     "text": [
      "Learning rate set to 0.020858\n",
      "0:\tlearn: 45.3979638\ttotal: 142ms\tremaining: 2m 22s\n",
      "1:\tlearn: 45.1197092\ttotal: 143ms\tremaining: 1m 11s\n",
      "2:\tlearn: 44.8420733\ttotal: 144ms\tremaining: 48s\n",
      "3:\tlearn: 44.5748774\ttotal: 145ms\tremaining: 36.2s\n",
      "4:\tlearn: 44.2994965\ttotal: 147ms\tremaining: 29.2s\n",
      "5:\tlearn: 43.9733582\ttotal: 148ms\tremaining: 24.5s\n",
      "6:\tlearn: 43.7378962\ttotal: 149ms\tremaining: 21.2s\n",
      "7:\tlearn: 43.3950855\ttotal: 150ms\tremaining: 18.6s\n",
      "8:\tlearn: 43.0436962\ttotal: 152ms\tremaining: 16.7s\n",
      "9:\tlearn: 42.7897768\ttotal: 153ms\tremaining: 15.1s\n",
      "10:\tlearn: 42.5337527\ttotal: 154ms\tremaining: 13.8s\n",
      "11:\tlearn: 42.2381409\ttotal: 155ms\tremaining: 12.8s\n",
      "12:\tlearn: 41.9040964\ttotal: 156ms\tremaining: 11.8s\n",
      "13:\tlearn: 41.6795166\ttotal: 158ms\tremaining: 11.1s\n",
      "14:\tlearn: 41.4206722\ttotal: 159ms\tremaining: 10.5s\n",
      "15:\tlearn: 41.1054202\ttotal: 161ms\tremaining: 9.91s\n",
      "16:\tlearn: 40.8145709\ttotal: 162ms\tremaining: 9.38s\n",
      "17:\tlearn: 40.4974993\ttotal: 164ms\tremaining: 8.93s\n",
      "18:\tlearn: 40.2568938\ttotal: 165ms\tremaining: 8.53s\n",
      "19:\tlearn: 39.9543357\ttotal: 167ms\tremaining: 8.16s\n",
      "20:\tlearn: 39.6241556\ttotal: 168ms\tremaining: 7.81s\n",
      "21:\tlearn: 39.2923249\ttotal: 168ms\tremaining: 7.48s\n",
      "22:\tlearn: 38.9827057\ttotal: 170ms\tremaining: 7.2s\n",
      "23:\tlearn: 38.7515993\ttotal: 171ms\tremaining: 6.95s\n",
      "24:\tlearn: 38.4357669\ttotal: 173ms\tremaining: 6.75s\n",
      "25:\tlearn: 38.2141118\ttotal: 174ms\tremaining: 6.52s\n",
      "26:\tlearn: 37.9945572\ttotal: 176ms\tremaining: 6.32s\n",
      "27:\tlearn: 37.7828627\ttotal: 177ms\tremaining: 6.15s\n",
      "28:\tlearn: 37.4831257\ttotal: 178ms\tremaining: 5.97s\n",
      "29:\tlearn: 37.2929960\ttotal: 179ms\tremaining: 5.8s\n",
      "30:\tlearn: 37.0555295\ttotal: 180ms\tremaining: 5.64s\n",
      "31:\tlearn: 36.7661208\ttotal: 182ms\tremaining: 5.49s\n",
      "32:\tlearn: 36.5732665\ttotal: 182ms\tremaining: 5.34s\n",
      "33:\tlearn: 36.3743093\ttotal: 184ms\tremaining: 5.23s\n",
      "34:\tlearn: 36.0757844\ttotal: 185ms\tremaining: 5.11s\n",
      "35:\tlearn: 35.8121439\ttotal: 187ms\tremaining: 5s\n",
      "36:\tlearn: 35.6299324\ttotal: 188ms\tremaining: 4.89s\n",
      "37:\tlearn: 35.3261176\ttotal: 189ms\tremaining: 4.78s\n",
      "38:\tlearn: 35.1112395\ttotal: 190ms\tremaining: 4.69s\n",
      "39:\tlearn: 34.8387411\ttotal: 192ms\tremaining: 4.6s\n",
      "40:\tlearn: 34.5756997\ttotal: 193ms\tremaining: 4.51s\n",
      "41:\tlearn: 34.3609979\ttotal: 194ms\tremaining: 4.43s\n",
      "42:\tlearn: 34.1528237\ttotal: 195ms\tremaining: 4.34s\n",
      "43:\tlearn: 33.8783540\ttotal: 196ms\tremaining: 4.27s\n",
      "44:\tlearn: 33.6902560\ttotal: 198ms\tremaining: 4.2s\n",
      "45:\tlearn: 33.4352086\ttotal: 199ms\tremaining: 4.12s\n",
      "46:\tlearn: 33.2433683\ttotal: 200ms\tremaining: 4.06s\n",
      "47:\tlearn: 32.9957164\ttotal: 201ms\tremaining: 4s\n",
      "48:\tlearn: 32.8136809\ttotal: 202ms\tremaining: 3.93s\n",
      "49:\tlearn: 32.5508200\ttotal: 204ms\tremaining: 3.87s\n",
      "50:\tlearn: 32.2941564\ttotal: 205ms\tremaining: 3.81s\n",
      "51:\tlearn: 32.1108503\ttotal: 206ms\tremaining: 3.76s\n",
      "52:\tlearn: 31.8613952\ttotal: 208ms\tremaining: 3.71s\n",
      "53:\tlearn: 31.6640248\ttotal: 209ms\tremaining: 3.65s\n",
      "54:\tlearn: 31.4946541\ttotal: 209ms\tremaining: 3.6s\n",
      "55:\tlearn: 31.3335120\ttotal: 211ms\tremaining: 3.55s\n",
      "56:\tlearn: 31.1039528\ttotal: 212ms\tremaining: 3.51s\n",
      "57:\tlearn: 30.9057859\ttotal: 214ms\tremaining: 3.47s\n",
      "58:\tlearn: 30.6637341\ttotal: 215ms\tremaining: 3.43s\n",
      "59:\tlearn: 30.4936276\ttotal: 216ms\tremaining: 3.38s\n",
      "60:\tlearn: 30.2541820\ttotal: 217ms\tremaining: 3.34s\n",
      "61:\tlearn: 30.0309499\ttotal: 218ms\tremaining: 3.3s\n",
      "62:\tlearn: 29.8572444\ttotal: 219ms\tremaining: 3.26s\n",
      "63:\tlearn: 29.7014540\ttotal: 220ms\tremaining: 3.22s\n",
      "64:\tlearn: 29.4610926\ttotal: 221ms\tremaining: 3.18s\n",
      "65:\tlearn: 29.2795849\ttotal: 222ms\tremaining: 3.15s\n",
      "66:\tlearn: 29.1139182\ttotal: 223ms\tremaining: 3.11s\n",
      "67:\tlearn: 28.9514085\ttotal: 225ms\tremaining: 3.08s\n",
      "68:\tlearn: 28.7919481\ttotal: 226ms\tremaining: 3.05s\n",
      "69:\tlearn: 28.6221313\ttotal: 227ms\tremaining: 3.02s\n",
      "70:\tlearn: 28.4732454\ttotal: 228ms\tremaining: 2.99s\n",
      "71:\tlearn: 28.2459684\ttotal: 230ms\tremaining: 2.96s\n",
      "72:\tlearn: 28.0137584\ttotal: 230ms\tremaining: 2.92s\n",
      "73:\tlearn: 27.8502825\ttotal: 232ms\tremaining: 2.9s\n",
      "74:\tlearn: 27.6038400\ttotal: 233ms\tremaining: 2.87s\n",
      "75:\tlearn: 27.3904975\ttotal: 234ms\tremaining: 2.85s\n",
      "76:\tlearn: 27.2464146\ttotal: 236ms\tremaining: 2.82s\n",
      "77:\tlearn: 27.0435579\ttotal: 237ms\tremaining: 2.8s\n",
      "78:\tlearn: 26.8541700\ttotal: 238ms\tremaining: 2.77s\n",
      "79:\tlearn: 26.6550509\ttotal: 239ms\tremaining: 2.75s\n",
      "80:\tlearn: 26.5041899\ttotal: 241ms\tremaining: 2.73s\n",
      "81:\tlearn: 26.2988665\ttotal: 242ms\tremaining: 2.71s\n",
      "82:\tlearn: 26.0977944\ttotal: 243ms\tremaining: 2.68s\n",
      "83:\tlearn: 25.9582067\ttotal: 244ms\tremaining: 2.66s\n",
      "84:\tlearn: 25.8140961\ttotal: 245ms\tremaining: 2.64s\n",
      "85:\tlearn: 25.6714814\ttotal: 247ms\tremaining: 2.62s\n",
      "86:\tlearn: 25.4528890\ttotal: 248ms\tremaining: 2.6s\n",
      "87:\tlearn: 25.3147561\ttotal: 249ms\tremaining: 2.58s\n",
      "88:\tlearn: 25.1095238\ttotal: 250ms\tremaining: 2.56s\n",
      "89:\tlearn: 24.9758021\ttotal: 251ms\tremaining: 2.54s\n",
      "90:\tlearn: 24.8386580\ttotal: 252ms\tremaining: 2.52s\n",
      "91:\tlearn: 24.7030405\ttotal: 254ms\tremaining: 2.5s\n",
      "92:\tlearn: 24.5099275\ttotal: 255ms\tremaining: 2.48s\n",
      "93:\tlearn: 24.3153669\ttotal: 256ms\tremaining: 2.47s\n",
      "94:\tlearn: 24.1745289\ttotal: 257ms\tremaining: 2.45s\n",
      "95:\tlearn: 24.0499964\ttotal: 258ms\tremaining: 2.43s\n",
      "96:\tlearn: 23.9291592\ttotal: 259ms\tremaining: 2.41s\n",
      "97:\tlearn: 23.7414309\ttotal: 260ms\tremaining: 2.39s\n",
      "98:\tlearn: 23.5559004\ttotal: 261ms\tremaining: 2.38s\n",
      "99:\tlearn: 23.3790287\ttotal: 262ms\tremaining: 2.36s\n",
      "100:\tlearn: 23.2427455\ttotal: 263ms\tremaining: 2.34s\n",
      "101:\tlearn: 23.1143548\ttotal: 265ms\tremaining: 2.33s\n",
      "102:\tlearn: 22.9846958\ttotal: 265ms\tremaining: 2.31s\n",
      "103:\tlearn: 22.8206037\ttotal: 266ms\tremaining: 2.29s\n",
      "104:\tlearn: 22.6922036\ttotal: 267ms\tremaining: 2.28s\n",
      "105:\tlearn: 22.5740464\ttotal: 268ms\tremaining: 2.26s\n",
      "106:\tlearn: 22.4534245\ttotal: 269ms\tremaining: 2.25s\n",
      "107:\tlearn: 22.2782393\ttotal: 271ms\tremaining: 2.23s\n",
      "108:\tlearn: 22.1463805\ttotal: 272ms\tremaining: 2.22s\n",
      "109:\tlearn: 22.0222016\ttotal: 273ms\tremaining: 2.21s\n",
      "110:\tlearn: 21.8920578\ttotal: 274ms\tremaining: 2.19s\n",
      "111:\tlearn: 21.7757922\ttotal: 275ms\tremaining: 2.18s\n",
      "112:\tlearn: 21.6107076\ttotal: 277ms\tremaining: 2.17s\n",
      "113:\tlearn: 21.4988249\ttotal: 278ms\tremaining: 2.16s\n",
      "114:\tlearn: 21.3858449\ttotal: 279ms\tremaining: 2.15s\n",
      "115:\tlearn: 21.2730711\ttotal: 280ms\tremaining: 2.13s\n",
      "116:\tlearn: 21.1620391\ttotal: 282ms\tremaining: 2.12s\n",
      "117:\tlearn: 21.0061532\ttotal: 283ms\tremaining: 2.11s\n",
      "118:\tlearn: 20.8959484\ttotal: 284ms\tremaining: 2.1s\n",
      "119:\tlearn: 20.7356427\ttotal: 285ms\tremaining: 2.09s\n",
      "120:\tlearn: 20.6261587\ttotal: 287ms\tremaining: 2.08s\n",
      "121:\tlearn: 20.5058669\ttotal: 288ms\tremaining: 2.07s\n",
      "122:\tlearn: 20.3656460\ttotal: 289ms\tremaining: 2.06s\n",
      "123:\tlearn: 20.2318233\ttotal: 289ms\tremaining: 2.04s\n",
      "124:\tlearn: 20.1180952\ttotal: 291ms\tremaining: 2.04s\n",
      "125:\tlearn: 20.0099708\ttotal: 292ms\tremaining: 2.03s\n",
      "126:\tlearn: 19.8609381\ttotal: 293ms\tremaining: 2.02s\n",
      "127:\tlearn: 19.7571237\ttotal: 295ms\tremaining: 2.01s\n",
      "128:\tlearn: 19.6492845\ttotal: 296ms\tremaining: 2s\n",
      "129:\tlearn: 19.5491721\ttotal: 297ms\tremaining: 1.99s\n",
      "130:\tlearn: 19.4516966\ttotal: 299ms\tremaining: 1.98s\n",
      "131:\tlearn: 19.3461305\ttotal: 300ms\tremaining: 1.97s\n",
      "132:\tlearn: 19.2487419\ttotal: 301ms\tremaining: 1.96s\n",
      "133:\tlearn: 19.1434894\ttotal: 302ms\tremaining: 1.95s\n",
      "134:\tlearn: 19.0049325\ttotal: 304ms\tremaining: 1.94s\n",
      "135:\tlearn: 18.8675591\ttotal: 305ms\tremaining: 1.93s\n",
      "136:\tlearn: 18.7544523\ttotal: 307ms\tremaining: 1.93s\n",
      "137:\tlearn: 18.6195507\ttotal: 308ms\tremaining: 1.92s\n",
      "138:\tlearn: 18.5219895\ttotal: 310ms\tremaining: 1.92s\n",
      "139:\tlearn: 18.4226990\ttotal: 312ms\tremaining: 1.91s\n",
      "140:\tlearn: 18.3265465\ttotal: 313ms\tremaining: 1.91s\n",
      "141:\tlearn: 18.2323690\ttotal: 314ms\tremaining: 1.9s\n",
      "142:\tlearn: 18.1325448\ttotal: 316ms\tremaining: 1.89s\n",
      "143:\tlearn: 18.0323025\ttotal: 317ms\tremaining: 1.89s\n",
      "144:\tlearn: 17.9399782\ttotal: 319ms\tremaining: 1.88s\n",
      "145:\tlearn: 17.8506111\ttotal: 320ms\tremaining: 1.87s\n",
      "146:\tlearn: 17.7573185\ttotal: 321ms\tremaining: 1.86s\n",
      "147:\tlearn: 17.6680562\ttotal: 322ms\tremaining: 1.85s\n",
      "148:\tlearn: 17.5352325\ttotal: 324ms\tremaining: 1.85s\n",
      "149:\tlearn: 17.4475356\ttotal: 326ms\tremaining: 1.84s\n",
      "150:\tlearn: 17.3894635\ttotal: 326ms\tremaining: 1.83s\n",
      "151:\tlearn: 17.2901590\ttotal: 327ms\tremaining: 1.83s\n",
      "152:\tlearn: 17.1680560\ttotal: 329ms\tremaining: 1.82s\n",
      "153:\tlearn: 17.0695544\ttotal: 330ms\tremaining: 1.81s\n",
      "154:\tlearn: 16.9785629\ttotal: 332ms\tremaining: 1.81s\n",
      "155:\tlearn: 16.8885534\ttotal: 333ms\tremaining: 1.8s\n",
      "156:\tlearn: 16.8058409\ttotal: 334ms\tremaining: 1.79s\n",
      "157:\tlearn: 16.7188504\ttotal: 336ms\tremaining: 1.79s\n",
      "158:\tlearn: 16.5953347\ttotal: 337ms\tremaining: 1.78s\n",
      "159:\tlearn: 16.5078486\ttotal: 339ms\tremaining: 1.78s\n",
      "160:\tlearn: 16.3893462\ttotal: 341ms\tremaining: 1.77s\n",
      "161:\tlearn: 16.3022745\ttotal: 344ms\tremaining: 1.78s\n",
      "162:\tlearn: 16.1817554\ttotal: 345ms\tremaining: 1.77s\n",
      "163:\tlearn: 16.0646969\ttotal: 346ms\tremaining: 1.76s\n",
      "164:\tlearn: 15.9807424\ttotal: 348ms\tremaining: 1.76s\n",
      "165:\tlearn: 15.8617411\ttotal: 349ms\tremaining: 1.75s\n",
      "166:\tlearn: 15.7796564\ttotal: 350ms\tremaining: 1.75s\n",
      "167:\tlearn: 15.6962524\ttotal: 352ms\tremaining: 1.74s\n",
      "168:\tlearn: 15.6103103\ttotal: 353ms\tremaining: 1.74s\n",
      "169:\tlearn: 15.5294670\ttotal: 355ms\tremaining: 1.73s\n",
      "170:\tlearn: 15.4487138\ttotal: 357ms\tremaining: 1.73s\n",
      "171:\tlearn: 15.3322240\ttotal: 358ms\tremaining: 1.72s\n",
      "172:\tlearn: 15.2590388\ttotal: 359ms\tremaining: 1.72s\n",
      "173:\tlearn: 15.1735725\ttotal: 361ms\tremaining: 1.71s\n",
      "174:\tlearn: 15.0627709\ttotal: 362ms\tremaining: 1.71s\n",
      "175:\tlearn: 14.9827812\ttotal: 364ms\tremaining: 1.7s\n",
      "176:\tlearn: 14.8699589\ttotal: 365ms\tremaining: 1.7s\n",
      "177:\tlearn: 14.7879483\ttotal: 366ms\tremaining: 1.69s\n",
      "178:\tlearn: 14.7054580\ttotal: 368ms\tremaining: 1.69s\n",
      "179:\tlearn: 14.6279267\ttotal: 370ms\tremaining: 1.68s\n",
      "180:\tlearn: 14.5455382\ttotal: 371ms\tremaining: 1.68s\n",
      "181:\tlearn: 14.4724432\ttotal: 372ms\tremaining: 1.67s\n",
      "182:\tlearn: 14.3939537\ttotal: 374ms\tremaining: 1.67s\n",
      "183:\tlearn: 14.3111382\ttotal: 375ms\tremaining: 1.66s\n",
      "184:\tlearn: 14.2029648\ttotal: 376ms\tremaining: 1.66s\n",
      "185:\tlearn: 14.0862627\ttotal: 377ms\tremaining: 1.65s\n",
      "186:\tlearn: 14.0090917\ttotal: 378ms\tremaining: 1.64s\n",
      "187:\tlearn: 13.9333841\ttotal: 380ms\tremaining: 1.64s\n",
      "188:\tlearn: 13.8613430\ttotal: 381ms\tremaining: 1.64s\n",
      "189:\tlearn: 13.7576933\ttotal: 383ms\tremaining: 1.63s\n",
      "190:\tlearn: 13.6849876\ttotal: 384ms\tremaining: 1.63s\n",
      "191:\tlearn: 13.6080691\ttotal: 386ms\tremaining: 1.62s\n",
      "192:\tlearn: 13.5345205\ttotal: 387ms\tremaining: 1.62s\n",
      "193:\tlearn: 13.4642093\ttotal: 390ms\tremaining: 1.62s\n",
      "194:\tlearn: 13.3629897\ttotal: 392ms\tremaining: 1.62s\n",
      "195:\tlearn: 13.2920550\ttotal: 393ms\tremaining: 1.61s\n",
      "196:\tlearn: 13.2301737\ttotal: 394ms\tremaining: 1.61s\n",
      "197:\tlearn: 13.1583638\ttotal: 395ms\tremaining: 1.6s\n",
      "198:\tlearn: 13.0913718\ttotal: 397ms\tremaining: 1.6s\n",
      "199:\tlearn: 13.0240861\ttotal: 399ms\tremaining: 1.6s\n",
      "200:\tlearn: 12.9484914\ttotal: 401ms\tremaining: 1.59s\n",
      "201:\tlearn: 12.8810533\ttotal: 402ms\tremaining: 1.59s\n",
      "202:\tlearn: 12.8101672\ttotal: 403ms\tremaining: 1.58s\n",
      "203:\tlearn: 12.7416331\ttotal: 404ms\tremaining: 1.58s\n",
      "204:\tlearn: 12.6764893\ttotal: 405ms\tremaining: 1.57s\n",
      "205:\tlearn: 12.6098161\ttotal: 406ms\tremaining: 1.57s\n",
      "206:\tlearn: 12.5486689\ttotal: 407ms\tremaining: 1.56s\n",
      "207:\tlearn: 12.4810732\ttotal: 408ms\tremaining: 1.55s\n",
      "208:\tlearn: 12.4150615\ttotal: 410ms\tremaining: 1.55s\n",
      "209:\tlearn: 12.3492399\ttotal: 412ms\tremaining: 1.55s\n",
      "210:\tlearn: 12.2856938\ttotal: 413ms\tremaining: 1.54s\n",
      "211:\tlearn: 12.2146812\ttotal: 414ms\tremaining: 1.54s\n",
      "212:\tlearn: 12.1503703\ttotal: 415ms\tremaining: 1.53s\n",
      "213:\tlearn: 12.0864327\ttotal: 417ms\tremaining: 1.53s\n",
      "214:\tlearn: 12.0249609\ttotal: 417ms\tremaining: 1.52s\n",
      "215:\tlearn: 11.9647901\ttotal: 419ms\tremaining: 1.52s\n",
      "216:\tlearn: 11.8978965\ttotal: 420ms\tremaining: 1.51s\n",
      "217:\tlearn: 11.8365887\ttotal: 421ms\tremaining: 1.51s\n",
      "218:\tlearn: 11.7723603\ttotal: 422ms\tremaining: 1.5s\n",
      "219:\tlearn: 11.7092615\ttotal: 423ms\tremaining: 1.5s\n",
      "220:\tlearn: 11.6442203\ttotal: 425ms\tremaining: 1.5s\n",
      "221:\tlearn: 11.5837608\ttotal: 426ms\tremaining: 1.49s\n",
      "222:\tlearn: 11.4996410\ttotal: 428ms\tremaining: 1.49s\n",
      "223:\tlearn: 11.4382004\ttotal: 429ms\tremaining: 1.49s\n",
      "224:\tlearn: 11.3800252\ttotal: 430ms\tremaining: 1.48s\n",
      "225:\tlearn: 11.3231976\ttotal: 431ms\tremaining: 1.48s\n",
      "226:\tlearn: 11.2637741\ttotal: 432ms\tremaining: 1.47s\n",
      "227:\tlearn: 11.2100855\ttotal: 433ms\tremaining: 1.47s\n",
      "228:\tlearn: 11.1527754\ttotal: 435ms\tremaining: 1.46s\n",
      "229:\tlearn: 11.0979177\ttotal: 436ms\tremaining: 1.46s\n",
      "230:\tlearn: 11.0387433\ttotal: 437ms\tremaining: 1.45s\n",
      "231:\tlearn: 10.9826437\ttotal: 438ms\tremaining: 1.45s\n",
      "232:\tlearn: 10.9259428\ttotal: 440ms\tremaining: 1.45s\n",
      "233:\tlearn: 10.8703748\ttotal: 441ms\tremaining: 1.44s\n",
      "234:\tlearn: 10.8137523\ttotal: 442ms\tremaining: 1.44s\n",
      "235:\tlearn: 10.7562052\ttotal: 443ms\tremaining: 1.44s\n",
      "236:\tlearn: 10.7013073\ttotal: 445ms\tremaining: 1.43s\n",
      "237:\tlearn: 10.6464843\ttotal: 446ms\tremaining: 1.43s\n",
      "238:\tlearn: 10.5903214\ttotal: 447ms\tremaining: 1.42s\n",
      "239:\tlearn: 10.5367807\ttotal: 448ms\tremaining: 1.42s\n",
      "240:\tlearn: 10.4805789\ttotal: 449ms\tremaining: 1.42s\n",
      "241:\tlearn: 10.4269860\ttotal: 450ms\tremaining: 1.41s\n",
      "242:\tlearn: 10.3734274\ttotal: 452ms\tremaining: 1.41s\n",
      "243:\tlearn: 10.3187578\ttotal: 453ms\tremaining: 1.4s\n",
      "244:\tlearn: 10.2648795\ttotal: 455ms\tremaining: 1.4s\n",
      "245:\tlearn: 10.2112249\ttotal: 456ms\tremaining: 1.4s\n",
      "246:\tlearn: 10.1562569\ttotal: 458ms\tremaining: 1.4s\n",
      "247:\tlearn: 10.1042772\ttotal: 460ms\tremaining: 1.39s\n",
      "248:\tlearn: 10.0498477\ttotal: 461ms\tremaining: 1.39s\n",
      "249:\tlearn: 9.9975139\ttotal: 463ms\tremaining: 1.39s\n",
      "250:\tlearn: 9.9463768\ttotal: 464ms\tremaining: 1.39s\n",
      "251:\tlearn: 9.8940669\ttotal: 466ms\tremaining: 1.38s\n",
      "252:\tlearn: 9.8429023\ttotal: 467ms\tremaining: 1.38s\n",
      "253:\tlearn: 9.7915739\ttotal: 469ms\tremaining: 1.38s\n",
      "254:\tlearn: 9.7410993\ttotal: 470ms\tremaining: 1.37s\n",
      "255:\tlearn: 9.6896207\ttotal: 471ms\tremaining: 1.37s\n",
      "256:\tlearn: 9.6393912\ttotal: 472ms\tremaining: 1.36s\n",
      "257:\tlearn: 9.5900981\ttotal: 474ms\tremaining: 1.36s\n",
      "258:\tlearn: 9.5387613\ttotal: 475ms\tremaining: 1.36s\n",
      "259:\tlearn: 9.4903554\ttotal: 477ms\tremaining: 1.36s\n",
      "260:\tlearn: 9.4404151\ttotal: 478ms\tremaining: 1.35s\n",
      "261:\tlearn: 9.3932848\ttotal: 479ms\tremaining: 1.35s\n",
      "262:\tlearn: 9.3451216\ttotal: 480ms\tremaining: 1.34s\n",
      "263:\tlearn: 9.2965389\ttotal: 482ms\tremaining: 1.34s\n",
      "264:\tlearn: 9.2514680\ttotal: 483ms\tremaining: 1.34s\n",
      "265:\tlearn: 9.2055965\ttotal: 484ms\tremaining: 1.33s\n",
      "266:\tlearn: 9.1573155\ttotal: 485ms\tremaining: 1.33s\n",
      "267:\tlearn: 9.1100257\ttotal: 487ms\tremaining: 1.33s\n",
      "268:\tlearn: 9.0622516\ttotal: 488ms\tremaining: 1.33s\n",
      "269:\tlearn: 9.0134327\ttotal: 490ms\tremaining: 1.32s\n",
      "270:\tlearn: 8.9675274\ttotal: 491ms\tremaining: 1.32s\n",
      "271:\tlearn: 8.9204077\ttotal: 493ms\tremaining: 1.32s\n",
      "272:\tlearn: 8.8739987\ttotal: 494ms\tremaining: 1.31s\n",
      "273:\tlearn: 8.8288194\ttotal: 495ms\tremaining: 1.31s\n",
      "274:\tlearn: 8.7836932\ttotal: 497ms\tremaining: 1.31s\n",
      "275:\tlearn: 8.7410402\ttotal: 498ms\tremaining: 1.31s\n",
      "276:\tlearn: 8.6957696\ttotal: 500ms\tremaining: 1.3s\n",
      "277:\tlearn: 8.6515165\ttotal: 502ms\tremaining: 1.3s\n",
      "278:\tlearn: 8.6077442\ttotal: 504ms\tremaining: 1.3s\n",
      "279:\tlearn: 8.5640363\ttotal: 506ms\tremaining: 1.3s\n",
      "280:\tlearn: 8.5194974\ttotal: 508ms\tremaining: 1.3s\n",
      "281:\tlearn: 8.4761959\ttotal: 509ms\tremaining: 1.29s\n",
      "282:\tlearn: 8.4339325\ttotal: 510ms\tremaining: 1.29s\n",
      "283:\tlearn: 8.3900357\ttotal: 512ms\tremaining: 1.29s\n",
      "284:\tlearn: 8.3467895\ttotal: 513ms\tremaining: 1.29s\n",
      "285:\tlearn: 8.3033522\ttotal: 514ms\tremaining: 1.28s\n",
      "286:\tlearn: 8.2601840\ttotal: 516ms\tremaining: 1.28s\n",
      "287:\tlearn: 8.2175576\ttotal: 517ms\tremaining: 1.28s\n",
      "288:\tlearn: 8.1742814\ttotal: 519ms\tremaining: 1.27s\n",
      "289:\tlearn: 8.1331775\ttotal: 520ms\tremaining: 1.27s\n",
      "290:\tlearn: 8.0904079\ttotal: 521ms\tremaining: 1.27s\n",
      "291:\tlearn: 8.0480617\ttotal: 522ms\tremaining: 1.27s\n",
      "292:\tlearn: 8.0065022\ttotal: 524ms\tremaining: 1.26s\n",
      "293:\tlearn: 7.9638133\ttotal: 525ms\tremaining: 1.26s\n",
      "294:\tlearn: 7.9222858\ttotal: 526ms\tremaining: 1.26s\n",
      "295:\tlearn: 7.8804846\ttotal: 527ms\tremaining: 1.25s\n",
      "296:\tlearn: 7.8395489\ttotal: 529ms\tremaining: 1.25s\n",
      "297:\tlearn: 7.7991697\ttotal: 530ms\tremaining: 1.25s\n",
      "298:\tlearn: 7.7581737\ttotal: 531ms\tremaining: 1.25s\n",
      "299:\tlearn: 7.7199373\ttotal: 532ms\tremaining: 1.24s\n",
      "300:\tlearn: 7.6793008\ttotal: 534ms\tremaining: 1.24s\n",
      "301:\tlearn: 7.6401341\ttotal: 535ms\tremaining: 1.24s\n",
      "302:\tlearn: 7.5999787\ttotal: 536ms\tremaining: 1.23s\n",
      "303:\tlearn: 7.5604442\ttotal: 538ms\tremaining: 1.23s\n",
      "304:\tlearn: 7.5221180\ttotal: 539ms\tremaining: 1.23s\n",
      "305:\tlearn: 7.4828935\ttotal: 541ms\tremaining: 1.23s\n",
      "306:\tlearn: 7.4438503\ttotal: 542ms\tremaining: 1.22s\n",
      "307:\tlearn: 7.4064917\ttotal: 543ms\tremaining: 1.22s\n",
      "308:\tlearn: 7.3679293\ttotal: 545ms\tremaining: 1.22s\n",
      "309:\tlearn: 7.3296105\ttotal: 546ms\tremaining: 1.22s\n",
      "310:\tlearn: 7.2915552\ttotal: 547ms\tremaining: 1.21s\n",
      "311:\tlearn: 7.2535974\ttotal: 549ms\tremaining: 1.21s\n",
      "312:\tlearn: 7.2165752\ttotal: 550ms\tremaining: 1.21s\n",
      "313:\tlearn: 7.1792069\ttotal: 551ms\tremaining: 1.2s\n",
      "314:\tlearn: 7.1419446\ttotal: 553ms\tremaining: 1.2s\n",
      "315:\tlearn: 7.1057691\ttotal: 554ms\tremaining: 1.2s\n",
      "316:\tlearn: 7.0688958\ttotal: 555ms\tremaining: 1.2s\n",
      "317:\tlearn: 7.0320176\ttotal: 557ms\tremaining: 1.19s\n",
      "318:\tlearn: 6.9953464\ttotal: 558ms\tremaining: 1.19s\n",
      "319:\tlearn: 6.9580489\ttotal: 559ms\tremaining: 1.19s\n",
      "320:\tlearn: 6.9224101\ttotal: 560ms\tremaining: 1.19s\n",
      "321:\tlearn: 6.8858050\ttotal: 561ms\tremaining: 1.18s\n",
      "322:\tlearn: 6.8493470\ttotal: 563ms\tremaining: 1.18s\n",
      "323:\tlearn: 6.8150839\ttotal: 564ms\tremaining: 1.18s\n",
      "324:\tlearn: 6.7792045\ttotal: 565ms\tremaining: 1.17s\n",
      "325:\tlearn: 6.7438543\ttotal: 566ms\tremaining: 1.17s\n",
      "326:\tlearn: 6.7086879\ttotal: 568ms\tremaining: 1.17s\n",
      "327:\tlearn: 6.6737739\ttotal: 569ms\tremaining: 1.17s\n",
      "328:\tlearn: 6.6389731\ttotal: 570ms\tremaining: 1.16s\n",
      "329:\tlearn: 6.6041253\ttotal: 571ms\tremaining: 1.16s\n",
      "330:\tlearn: 6.5696878\ttotal: 573ms\tremaining: 1.16s\n",
      "331:\tlearn: 6.5360548\ttotal: 574ms\tremaining: 1.15s\n",
      "332:\tlearn: 6.5029650\ttotal: 575ms\tremaining: 1.15s\n",
      "333:\tlearn: 6.4685382\ttotal: 576ms\tremaining: 1.15s\n",
      "334:\tlearn: 6.4344871\ttotal: 578ms\tremaining: 1.15s\n",
      "335:\tlearn: 6.4010763\ttotal: 579ms\tremaining: 1.14s\n",
      "336:\tlearn: 6.3673245\ttotal: 580ms\tremaining: 1.14s\n",
      "337:\tlearn: 6.3338821\ttotal: 582ms\tremaining: 1.14s\n",
      "338:\tlearn: 6.3017028\ttotal: 583ms\tremaining: 1.14s\n",
      "339:\tlearn: 6.2687205\ttotal: 584ms\tremaining: 1.13s\n",
      "340:\tlearn: 6.2360322\ttotal: 585ms\tremaining: 1.13s\n",
      "341:\tlearn: 6.2032099\ttotal: 587ms\tremaining: 1.13s\n",
      "342:\tlearn: 6.1705627\ttotal: 588ms\tremaining: 1.13s\n",
      "343:\tlearn: 6.1384869\ttotal: 589ms\tremaining: 1.12s\n",
      "344:\tlearn: 6.1061823\ttotal: 590ms\tremaining: 1.12s\n",
      "345:\tlearn: 6.0744455\ttotal: 591ms\tremaining: 1.12s\n",
      "346:\tlearn: 6.0424801\ttotal: 593ms\tremaining: 1.11s\n",
      "347:\tlearn: 6.0109716\ttotal: 594ms\tremaining: 1.11s\n",
      "348:\tlearn: 5.9804078\ttotal: 595ms\tremaining: 1.11s\n",
      "349:\tlearn: 5.9492229\ttotal: 597ms\tremaining: 1.11s\n",
      "350:\tlearn: 5.9179206\ttotal: 598ms\tremaining: 1.1s\n",
      "351:\tlearn: 5.8880438\ttotal: 599ms\tremaining: 1.1s\n",
      "352:\tlearn: 5.8570656\ttotal: 600ms\tremaining: 1.1s\n",
      "353:\tlearn: 5.8276682\ttotal: 601ms\tremaining: 1.1s\n",
      "354:\tlearn: 5.7970061\ttotal: 603ms\tremaining: 1.09s\n",
      "355:\tlearn: 5.7665072\ttotal: 604ms\tremaining: 1.09s\n",
      "356:\tlearn: 5.7361706\ttotal: 605ms\tremaining: 1.09s\n",
      "357:\tlearn: 5.7062596\ttotal: 607ms\tremaining: 1.09s\n",
      "358:\tlearn: 5.6776208\ttotal: 608ms\tremaining: 1.08s\n",
      "359:\tlearn: 5.6480148\ttotal: 609ms\tremaining: 1.08s\n",
      "360:\tlearn: 5.6185635\ttotal: 611ms\tremaining: 1.08s\n",
      "361:\tlearn: 5.5892657\ttotal: 613ms\tremaining: 1.08s\n",
      "362:\tlearn: 5.5601207\ttotal: 614ms\tremaining: 1.08s\n",
      "363:\tlearn: 5.5311277\ttotal: 616ms\tremaining: 1.08s\n",
      "364:\tlearn: 5.5022857\ttotal: 618ms\tremaining: 1.07s\n",
      "365:\tlearn: 5.4733377\ttotal: 619ms\tremaining: 1.07s\n",
      "366:\tlearn: 5.4447972\ttotal: 620ms\tremaining: 1.07s\n",
      "367:\tlearn: 5.4164902\ttotal: 622ms\tremaining: 1.07s\n",
      "368:\tlearn: 5.3882459\ttotal: 623ms\tremaining: 1.06s\n",
      "369:\tlearn: 5.3598992\ttotal: 624ms\tremaining: 1.06s\n",
      "370:\tlearn: 5.3319500\ttotal: 626ms\tremaining: 1.06s\n",
      "371:\tlearn: 5.3041468\ttotal: 627ms\tremaining: 1.06s\n",
      "372:\tlearn: 5.2764883\ttotal: 629ms\tremaining: 1.06s\n",
      "373:\tlearn: 5.2489741\ttotal: 630ms\tremaining: 1.05s\n",
      "374:\tlearn: 5.2216033\ttotal: 632ms\tremaining: 1.05s\n",
      "375:\tlearn: 5.1943753\ttotal: 633ms\tremaining: 1.05s\n",
      "376:\tlearn: 5.1672892\ttotal: 635ms\tremaining: 1.05s\n",
      "377:\tlearn: 5.1403446\ttotal: 637ms\tremaining: 1.05s\n",
      "378:\tlearn: 5.1135406\ttotal: 638ms\tremaining: 1.05s\n",
      "379:\tlearn: 5.0868763\ttotal: 640ms\tremaining: 1.04s\n",
      "380:\tlearn: 5.0603511\ttotal: 641ms\tremaining: 1.04s\n",
      "381:\tlearn: 5.0339639\ttotal: 643ms\tremaining: 1.04s\n",
      "382:\tlearn: 5.0077143\ttotal: 645ms\tremaining: 1.04s\n",
      "383:\tlearn: 4.9816016\ttotal: 646ms\tremaining: 1.04s\n",
      "384:\tlearn: 4.9556250\ttotal: 647ms\tremaining: 1.03s\n",
      "385:\tlearn: 4.9295562\ttotal: 649ms\tremaining: 1.03s\n",
      "386:\tlearn: 4.9038510\ttotal: 650ms\tremaining: 1.03s\n",
      "387:\tlearn: 4.8782799\ttotal: 651ms\tremaining: 1.03s\n",
      "388:\tlearn: 4.8528421\ttotal: 652ms\tremaining: 1.02s\n",
      "389:\tlearn: 4.8275369\ttotal: 654ms\tremaining: 1.02s\n",
      "390:\tlearn: 4.8023637\ttotal: 655ms\tremaining: 1.02s\n",
      "391:\tlearn: 4.7773218\ttotal: 656ms\tremaining: 1.02s\n",
      "392:\tlearn: 4.7521923\ttotal: 658ms\tremaining: 1.02s\n",
      "393:\tlearn: 4.7274119\ttotal: 659ms\tremaining: 1.01s\n",
      "394:\tlearn: 4.7027609\ttotal: 661ms\tremaining: 1.01s\n",
      "395:\tlearn: 4.6782383\ttotal: 662ms\tremaining: 1.01s\n",
      "396:\tlearn: 4.6538436\ttotal: 663ms\tremaining: 1.01s\n",
      "397:\tlearn: 4.6295762\ttotal: 664ms\tremaining: 1s\n",
      "398:\tlearn: 4.6054353\ttotal: 666ms\tremaining: 1s\n",
      "399:\tlearn: 4.5814202\ttotal: 667ms\tremaining: 1s\n",
      "400:\tlearn: 4.5575304\ttotal: 668ms\tremaining: 998ms\n",
      "401:\tlearn: 4.5337652\ttotal: 670ms\tremaining: 996ms\n",
      "402:\tlearn: 4.5101238\ttotal: 671ms\tremaining: 994ms\n",
      "403:\tlearn: 4.4866061\ttotal: 672ms\tremaining: 992ms\n",
      "404:\tlearn: 4.4632109\ttotal: 673ms\tremaining: 989ms\n",
      "405:\tlearn: 4.4399375\ttotal: 675ms\tremaining: 987ms\n",
      "406:\tlearn: 4.4167855\ttotal: 676ms\tremaining: 985ms\n",
      "407:\tlearn: 4.3937541\ttotal: 677ms\tremaining: 983ms\n",
      "408:\tlearn: 4.3708432\ttotal: 679ms\tremaining: 980ms\n",
      "409:\tlearn: 4.3478535\ttotal: 680ms\tremaining: 978ms\n",
      "410:\tlearn: 4.3251816\ttotal: 681ms\tremaining: 976ms\n",
      "411:\tlearn: 4.3026279\ttotal: 682ms\tremaining: 974ms\n",
      "412:\tlearn: 4.2801919\ttotal: 684ms\tremaining: 972ms\n",
      "413:\tlearn: 4.2578728\ttotal: 685ms\tremaining: 970ms\n",
      "414:\tlearn: 4.2356701\ttotal: 686ms\tremaining: 967ms\n",
      "415:\tlearn: 4.2135832\ttotal: 688ms\tremaining: 965ms\n",
      "416:\tlearn: 4.1916118\ttotal: 689ms\tremaining: 963ms\n",
      "417:\tlearn: 4.1697546\ttotal: 690ms\tremaining: 961ms\n",
      "418:\tlearn: 4.1480117\ttotal: 691ms\tremaining: 959ms\n",
      "419:\tlearn: 4.1263819\ttotal: 693ms\tremaining: 956ms\n",
      "420:\tlearn: 4.1048649\ttotal: 694ms\tremaining: 954ms\n",
      "421:\tlearn: 4.0834601\ttotal: 695ms\tremaining: 952ms\n",
      "422:\tlearn: 4.0621669\ttotal: 696ms\tremaining: 950ms\n",
      "423:\tlearn: 4.0409847\ttotal: 697ms\tremaining: 948ms\n",
      "424:\tlearn: 4.0199132\ttotal: 699ms\tremaining: 945ms\n",
      "425:\tlearn: 3.9989514\ttotal: 700ms\tremaining: 943ms\n",
      "426:\tlearn: 3.9780989\ttotal: 701ms\tremaining: 941ms\n",
      "427:\tlearn: 3.9573551\ttotal: 703ms\tremaining: 939ms\n",
      "428:\tlearn: 3.9367195\ttotal: 704ms\tremaining: 937ms\n",
      "429:\tlearn: 3.9161914\ttotal: 705ms\tremaining: 935ms\n",
      "430:\tlearn: 3.8957705\ttotal: 706ms\tremaining: 933ms\n",
      "431:\tlearn: 3.8754560\ttotal: 708ms\tremaining: 930ms\n",
      "432:\tlearn: 3.8552477\ttotal: 709ms\tremaining: 928ms\n",
      "433:\tlearn: 3.8351445\ttotal: 710ms\tremaining: 926ms\n",
      "434:\tlearn: 3.8151461\ttotal: 712ms\tremaining: 924ms\n",
      "435:\tlearn: 3.7952520\ttotal: 713ms\tremaining: 922ms\n",
      "436:\tlearn: 3.7754617\ttotal: 714ms\tremaining: 920ms\n",
      "437:\tlearn: 3.7557745\ttotal: 715ms\tremaining: 918ms\n",
      "438:\tlearn: 3.7361901\ttotal: 717ms\tremaining: 916ms\n",
      "439:\tlearn: 3.7167077\ttotal: 718ms\tremaining: 914ms\n",
      "440:\tlearn: 3.6973269\ttotal: 719ms\tremaining: 912ms\n",
      "441:\tlearn: 3.6780475\ttotal: 720ms\tremaining: 909ms\n",
      "442:\tlearn: 3.6588683\ttotal: 722ms\tremaining: 907ms\n",
      "443:\tlearn: 3.6397894\ttotal: 723ms\tremaining: 905ms\n",
      "444:\tlearn: 3.6208097\ttotal: 724ms\tremaining: 903ms\n",
      "445:\tlearn: 3.6019290\ttotal: 726ms\tremaining: 901ms\n",
      "446:\tlearn: 3.5831467\ttotal: 727ms\tremaining: 899ms\n",
      "447:\tlearn: 3.5644624\ttotal: 728ms\tremaining: 897ms\n",
      "448:\tlearn: 3.5458755\ttotal: 729ms\tremaining: 895ms\n",
      "449:\tlearn: 3.5273855\ttotal: 731ms\tremaining: 893ms\n",
      "450:\tlearn: 3.5089920\ttotal: 732ms\tremaining: 891ms\n",
      "451:\tlearn: 3.4906944\ttotal: 733ms\tremaining: 889ms\n",
      "452:\tlearn: 3.4724921\ttotal: 734ms\tremaining: 887ms\n",
      "453:\tlearn: 3.4543848\ttotal: 735ms\tremaining: 884ms\n",
      "454:\tlearn: 3.4363719\ttotal: 737ms\tremaining: 883ms\n",
      "455:\tlearn: 3.4184532\ttotal: 738ms\tremaining: 881ms\n",
      "456:\tlearn: 3.4006277\ttotal: 740ms\tremaining: 879ms\n",
      "457:\tlearn: 3.3828951\ttotal: 742ms\tremaining: 878ms\n",
      "458:\tlearn: 3.3652550\ttotal: 743ms\tremaining: 876ms\n",
      "459:\tlearn: 3.3477069\ttotal: 745ms\tremaining: 875ms\n",
      "460:\tlearn: 3.3302503\ttotal: 747ms\tremaining: 873ms\n",
      "461:\tlearn: 3.3128847\ttotal: 748ms\tremaining: 871ms\n",
      "462:\tlearn: 3.2956096\ttotal: 750ms\tremaining: 870ms\n",
      "463:\tlearn: 3.2784247\ttotal: 751ms\tremaining: 868ms\n",
      "464:\tlearn: 3.2613293\ttotal: 753ms\tremaining: 866ms\n",
      "465:\tlearn: 3.2443231\ttotal: 755ms\tremaining: 865ms\n",
      "466:\tlearn: 3.2274056\ttotal: 756ms\tremaining: 863ms\n",
      "467:\tlearn: 3.2105763\ttotal: 758ms\tremaining: 861ms\n",
      "468:\tlearn: 3.1938348\ttotal: 759ms\tremaining: 859ms\n",
      "469:\tlearn: 3.1771805\ttotal: 761ms\tremaining: 858ms\n",
      "470:\tlearn: 3.1606131\ttotal: 762ms\tremaining: 856ms\n",
      "471:\tlearn: 3.1441321\ttotal: 764ms\tremaining: 854ms\n",
      "472:\tlearn: 3.1277370\ttotal: 766ms\tremaining: 854ms\n",
      "473:\tlearn: 3.1114274\ttotal: 769ms\tremaining: 853ms\n",
      "474:\tlearn: 3.0952029\ttotal: 771ms\tremaining: 852ms\n",
      "475:\tlearn: 3.0790630\ttotal: 772ms\tremaining: 850ms\n",
      "476:\tlearn: 3.0630072\ttotal: 774ms\tremaining: 849ms\n",
      "477:\tlearn: 3.0470351\ttotal: 776ms\tremaining: 848ms\n",
      "478:\tlearn: 3.0311464\ttotal: 777ms\tremaining: 846ms\n",
      "479:\tlearn: 3.0153405\ttotal: 779ms\tremaining: 844ms\n",
      "480:\tlearn: 2.9996170\ttotal: 781ms\tremaining: 843ms\n",
      "481:\tlearn: 2.9839755\ttotal: 783ms\tremaining: 841ms\n",
      "482:\tlearn: 2.9684155\ttotal: 784ms\tremaining: 840ms\n",
      "483:\tlearn: 2.9529367\ttotal: 787ms\tremaining: 839ms\n",
      "484:\tlearn: 2.9375389\ttotal: 789ms\tremaining: 838ms\n",
      "485:\tlearn: 2.9222211\ttotal: 791ms\tremaining: 837ms\n",
      "486:\tlearn: 2.9069831\ttotal: 794ms\tremaining: 837ms\n",
      "487:\tlearn: 2.8918249\ttotal: 797ms\tremaining: 836ms\n",
      "488:\tlearn: 2.8767455\ttotal: 799ms\tremaining: 835ms\n",
      "489:\tlearn: 2.8617447\ttotal: 801ms\tremaining: 834ms\n",
      "490:\tlearn: 2.8468223\ttotal: 809ms\tremaining: 838ms\n",
      "491:\tlearn: 2.8319776\ttotal: 810ms\tremaining: 837ms\n",
      "492:\tlearn: 2.8172104\ttotal: 812ms\tremaining: 835ms\n",
      "493:\tlearn: 2.8025201\ttotal: 815ms\tremaining: 835ms\n",
      "494:\tlearn: 2.7879064\ttotal: 817ms\tremaining: 833ms\n",
      "495:\tlearn: 2.7733688\ttotal: 819ms\tremaining: 832ms\n",
      "496:\tlearn: 2.7589073\ttotal: 820ms\tremaining: 830ms\n",
      "497:\tlearn: 2.7445210\ttotal: 822ms\tremaining: 829ms\n",
      "498:\tlearn: 2.7302097\ttotal: 824ms\tremaining: 827ms\n",
      "499:\tlearn: 2.7159730\ttotal: 825ms\tremaining: 825ms\n",
      "500:\tlearn: 2.7018106\ttotal: 827ms\tremaining: 823ms\n",
      "501:\tlearn: 2.6877220\ttotal: 828ms\tremaining: 822ms\n",
      "502:\tlearn: 2.6737070\ttotal: 830ms\tremaining: 820ms\n",
      "503:\tlearn: 2.6597650\ttotal: 831ms\tremaining: 818ms\n",
      "504:\tlearn: 2.6458957\ttotal: 832ms\tremaining: 816ms\n",
      "505:\tlearn: 2.6320986\ttotal: 834ms\tremaining: 814ms\n",
      "506:\tlearn: 2.6183738\ttotal: 835ms\tremaining: 812ms\n",
      "507:\tlearn: 2.6047203\ttotal: 836ms\tremaining: 810ms\n",
      "508:\tlearn: 2.5911379\ttotal: 837ms\tremaining: 808ms\n",
      "509:\tlearn: 2.5776267\ttotal: 839ms\tremaining: 806ms\n",
      "510:\tlearn: 2.5641856\ttotal: 841ms\tremaining: 804ms\n",
      "511:\tlearn: 2.5508147\ttotal: 842ms\tremaining: 802ms\n",
      "512:\tlearn: 2.5375135\ttotal: 843ms\tremaining: 801ms\n",
      "513:\tlearn: 2.5242816\ttotal: 845ms\tremaining: 799ms\n",
      "514:\tlearn: 2.5111187\ttotal: 846ms\tremaining: 797ms\n",
      "515:\tlearn: 2.4980245\ttotal: 847ms\tremaining: 795ms\n",
      "516:\tlearn: 2.4849986\ttotal: 849ms\tremaining: 793ms\n",
      "517:\tlearn: 2.4720405\ttotal: 850ms\tremaining: 791ms\n",
      "518:\tlearn: 2.4591501\ttotal: 851ms\tremaining: 789ms\n",
      "519:\tlearn: 2.4463268\ttotal: 853ms\tremaining: 787ms\n",
      "520:\tlearn: 2.4335705\ttotal: 854ms\tremaining: 785ms\n",
      "521:\tlearn: 2.4208808\ttotal: 855ms\tremaining: 783ms\n",
      "522:\tlearn: 2.4082571\ttotal: 856ms\tremaining: 781ms\n",
      "523:\tlearn: 2.3956993\ttotal: 857ms\tremaining: 779ms\n",
      "524:\tlearn: 2.3832071\ttotal: 859ms\tremaining: 777ms\n",
      "525:\tlearn: 2.3707799\ttotal: 860ms\tremaining: 775ms\n",
      "526:\tlearn: 2.3584174\ttotal: 861ms\tremaining: 773ms\n",
      "527:\tlearn: 2.3461195\ttotal: 863ms\tremaining: 771ms\n",
      "528:\tlearn: 2.3338856\ttotal: 864ms\tremaining: 769ms\n",
      "529:\tlearn: 2.3217156\ttotal: 866ms\tremaining: 768ms\n",
      "530:\tlearn: 2.3096090\ttotal: 867ms\tremaining: 766ms\n",
      "531:\tlearn: 2.2975655\ttotal: 868ms\tremaining: 764ms\n",
      "532:\tlearn: 2.2855849\ttotal: 870ms\tremaining: 762ms\n",
      "533:\tlearn: 2.2736667\ttotal: 872ms\tremaining: 761ms\n",
      "534:\tlearn: 2.2618107\ttotal: 873ms\tremaining: 759ms\n",
      "535:\tlearn: 2.2500165\ttotal: 875ms\tremaining: 757ms\n",
      "536:\tlearn: 2.2382839\ttotal: 876ms\tremaining: 755ms\n",
      "537:\tlearn: 2.2266124\ttotal: 878ms\tremaining: 754ms\n",
      "538:\tlearn: 2.2150017\ttotal: 879ms\tremaining: 752ms\n",
      "539:\tlearn: 2.2034516\ttotal: 881ms\tremaining: 750ms\n",
      "540:\tlearn: 2.1919617\ttotal: 882ms\tremaining: 748ms\n",
      "541:\tlearn: 2.1805319\ttotal: 884ms\tremaining: 747ms\n",
      "542:\tlearn: 2.1691615\ttotal: 885ms\tremaining: 745ms\n",
      "543:\tlearn: 2.1578504\ttotal: 887ms\tremaining: 743ms\n",
      "544:\tlearn: 2.1465983\ttotal: 889ms\tremaining: 742ms\n",
      "545:\tlearn: 2.1354049\ttotal: 890ms\tremaining: 740ms\n",
      "546:\tlearn: 2.1242698\ttotal: 892ms\tremaining: 739ms\n",
      "547:\tlearn: 2.1131928\ttotal: 894ms\tremaining: 737ms\n",
      "548:\tlearn: 2.1021736\ttotal: 895ms\tremaining: 736ms\n",
      "549:\tlearn: 2.0912120\ttotal: 897ms\tremaining: 734ms\n",
      "550:\tlearn: 2.0803074\ttotal: 898ms\tremaining: 732ms\n",
      "551:\tlearn: 2.0694596\ttotal: 900ms\tremaining: 730ms\n",
      "552:\tlearn: 2.0586684\ttotal: 902ms\tremaining: 729ms\n",
      "553:\tlearn: 2.0479337\ttotal: 903ms\tremaining: 727ms\n",
      "554:\tlearn: 2.0372547\ttotal: 905ms\tremaining: 725ms\n",
      "555:\tlearn: 2.0266314\ttotal: 907ms\tremaining: 724ms\n",
      "556:\tlearn: 2.0160636\ttotal: 909ms\tremaining: 723ms\n",
      "557:\tlearn: 2.0055508\ttotal: 910ms\tremaining: 721ms\n",
      "558:\tlearn: 1.9950929\ttotal: 912ms\tremaining: 720ms\n",
      "559:\tlearn: 1.9846895\ttotal: 914ms\tremaining: 718ms\n",
      "560:\tlearn: 1.9743403\ttotal: 916ms\tremaining: 717ms\n",
      "561:\tlearn: 1.9640451\ttotal: 918ms\tremaining: 715ms\n",
      "562:\tlearn: 1.9538036\ttotal: 919ms\tremaining: 714ms\n",
      "563:\tlearn: 1.9436155\ttotal: 921ms\tremaining: 712ms\n",
      "564:\tlearn: 1.9334805\ttotal: 922ms\tremaining: 710ms\n",
      "565:\tlearn: 1.9233984\ttotal: 924ms\tremaining: 708ms\n",
      "566:\tlearn: 1.9133688\ttotal: 925ms\tremaining: 707ms\n",
      "567:\tlearn: 1.9033915\ttotal: 927ms\tremaining: 705ms\n",
      "568:\tlearn: 1.8934663\ttotal: 928ms\tremaining: 703ms\n",
      "569:\tlearn: 1.8835928\ttotal: 929ms\tremaining: 701ms\n",
      "570:\tlearn: 1.8737708\ttotal: 931ms\tremaining: 699ms\n",
      "571:\tlearn: 1.8640000\ttotal: 932ms\tremaining: 697ms\n",
      "572:\tlearn: 1.8542802\ttotal: 933ms\tremaining: 695ms\n",
      "573:\tlearn: 1.8446111\ttotal: 935ms\tremaining: 694ms\n",
      "574:\tlearn: 1.8349924\ttotal: 936ms\tremaining: 692ms\n",
      "575:\tlearn: 1.8254238\ttotal: 938ms\tremaining: 691ms\n",
      "576:\tlearn: 1.8159051\ttotal: 940ms\tremaining: 689ms\n",
      "577:\tlearn: 1.8064361\ttotal: 942ms\tremaining: 688ms\n",
      "578:\tlearn: 1.7970164\ttotal: 943ms\tremaining: 686ms\n",
      "579:\tlearn: 1.7876459\ttotal: 944ms\tremaining: 684ms\n",
      "580:\tlearn: 1.7783242\ttotal: 946ms\tremaining: 682ms\n",
      "581:\tlearn: 1.7690511\ttotal: 947ms\tremaining: 680ms\n",
      "582:\tlearn: 1.7598264\ttotal: 948ms\tremaining: 678ms\n",
      "583:\tlearn: 1.7506498\ttotal: 949ms\tremaining: 676ms\n",
      "584:\tlearn: 1.7415210\ttotal: 951ms\tremaining: 675ms\n",
      "585:\tlearn: 1.7324399\ttotal: 952ms\tremaining: 673ms\n",
      "586:\tlearn: 1.7234061\ttotal: 953ms\tremaining: 671ms\n",
      "587:\tlearn: 1.7144194\ttotal: 955ms\tremaining: 669ms\n",
      "588:\tlearn: 1.7054795\ttotal: 956ms\tremaining: 667ms\n",
      "589:\tlearn: 1.6965863\ttotal: 957ms\tremaining: 665ms\n",
      "590:\tlearn: 1.6877394\ttotal: 959ms\tremaining: 663ms\n",
      "591:\tlearn: 1.6789387\ttotal: 960ms\tremaining: 661ms\n",
      "592:\tlearn: 1.6701839\ttotal: 961ms\tremaining: 660ms\n",
      "593:\tlearn: 1.6614747\ttotal: 962ms\tremaining: 658ms\n",
      "594:\tlearn: 1.6528110\ttotal: 964ms\tremaining: 656ms\n",
      "595:\tlearn: 1.6441924\ttotal: 965ms\tremaining: 654ms\n",
      "596:\tlearn: 1.6356188\ttotal: 966ms\tremaining: 652ms\n",
      "597:\tlearn: 1.6270898\ttotal: 968ms\tremaining: 650ms\n",
      "598:\tlearn: 1.6186054\ttotal: 969ms\tremaining: 649ms\n",
      "599:\tlearn: 1.6101651\ttotal: 970ms\tremaining: 647ms\n",
      "600:\tlearn: 1.6017689\ttotal: 971ms\tremaining: 645ms\n",
      "601:\tlearn: 1.5934165\ttotal: 972ms\tremaining: 643ms\n",
      "602:\tlearn: 1.5851076\ttotal: 974ms\tremaining: 641ms\n",
      "603:\tlearn: 1.5768421\ttotal: 975ms\tremaining: 639ms\n",
      "604:\tlearn: 1.5686197\ttotal: 976ms\tremaining: 637ms\n",
      "605:\tlearn: 1.5604401\ttotal: 979ms\tremaining: 636ms\n",
      "606:\tlearn: 1.5523032\ttotal: 980ms\tremaining: 635ms\n",
      "607:\tlearn: 1.5442087\ttotal: 983ms\tremaining: 634ms\n",
      "608:\tlearn: 1.5361564\ttotal: 985ms\tremaining: 632ms\n",
      "609:\tlearn: 1.5281461\ttotal: 986ms\tremaining: 631ms\n",
      "610:\tlearn: 1.5201776\ttotal: 988ms\tremaining: 629ms\n",
      "611:\tlearn: 1.5122506\ttotal: 989ms\tremaining: 627ms\n",
      "612:\tlearn: 1.5043650\ttotal: 991ms\tremaining: 625ms\n",
      "613:\tlearn: 1.4965205\ttotal: 992ms\tremaining: 624ms\n",
      "614:\tlearn: 1.4887169\ttotal: 993ms\tremaining: 622ms\n",
      "615:\tlearn: 1.4809540\ttotal: 995ms\tremaining: 620ms\n",
      "616:\tlearn: 1.4732315\ttotal: 996ms\tremaining: 619ms\n",
      "617:\tlearn: 1.4655494\ttotal: 998ms\tremaining: 617ms\n",
      "618:\tlearn: 1.4579073\ttotal: 999ms\tremaining: 615ms\n",
      "619:\tlearn: 1.4503050\ttotal: 1s\tremaining: 613ms\n",
      "620:\tlearn: 1.4427424\ttotal: 1s\tremaining: 611ms\n",
      "621:\tlearn: 1.4352192\ttotal: 1s\tremaining: 609ms\n",
      "622:\tlearn: 1.4277353\ttotal: 1s\tremaining: 608ms\n",
      "623:\tlearn: 1.4202903\ttotal: 1s\tremaining: 606ms\n",
      "624:\tlearn: 1.4128842\ttotal: 1.01s\tremaining: 604ms\n",
      "625:\tlearn: 1.4055168\ttotal: 1.01s\tremaining: 602ms\n",
      "626:\tlearn: 1.3981877\ttotal: 1.01s\tremaining: 601ms\n",
      "627:\tlearn: 1.3908968\ttotal: 1.01s\tremaining: 599ms\n",
      "628:\tlearn: 1.3836440\ttotal: 1.01s\tremaining: 597ms\n",
      "629:\tlearn: 1.3764290\ttotal: 1.01s\tremaining: 595ms\n",
      "630:\tlearn: 1.3692516\ttotal: 1.01s\tremaining: 594ms\n",
      "631:\tlearn: 1.3621116\ttotal: 1.02s\tremaining: 592ms\n",
      "632:\tlearn: 1.3550089\ttotal: 1.02s\tremaining: 590ms\n",
      "633:\tlearn: 1.3479432\ttotal: 1.02s\tremaining: 588ms\n",
      "634:\tlearn: 1.3409144\ttotal: 1.02s\tremaining: 586ms\n",
      "635:\tlearn: 1.3339222\ttotal: 1.02s\tremaining: 584ms\n",
      "636:\tlearn: 1.3269664\ttotal: 1.02s\tremaining: 583ms\n",
      "637:\tlearn: 1.3200470\ttotal: 1.02s\tremaining: 581ms\n",
      "638:\tlearn: 1.3131636\ttotal: 1.02s\tremaining: 579ms\n",
      "639:\tlearn: 1.3063161\ttotal: 1.03s\tremaining: 577ms\n",
      "640:\tlearn: 1.2995043\ttotal: 1.03s\tremaining: 576ms\n",
      "641:\tlearn: 1.2927280\ttotal: 1.03s\tremaining: 574ms\n",
      "642:\tlearn: 1.2859871\ttotal: 1.03s\tremaining: 572ms\n",
      "643:\tlearn: 1.2792813\ttotal: 1.03s\tremaining: 570ms\n",
      "644:\tlearn: 1.2726105\ttotal: 1.03s\tremaining: 568ms\n",
      "645:\tlearn: 1.2659745\ttotal: 1.03s\tremaining: 567ms\n",
      "646:\tlearn: 1.2593731\ttotal: 1.03s\tremaining: 565ms\n",
      "647:\tlearn: 1.2528061\ttotal: 1.04s\tremaining: 563ms\n",
      "648:\tlearn: 1.2462733\ttotal: 1.04s\tremaining: 561ms\n",
      "649:\tlearn: 1.2397746\ttotal: 1.04s\tremaining: 559ms\n",
      "650:\tlearn: 1.2333098\ttotal: 1.04s\tremaining: 558ms\n",
      "651:\tlearn: 1.2268787\ttotal: 1.04s\tremaining: 556ms\n",
      "652:\tlearn: 1.2204812\ttotal: 1.04s\tremaining: 554ms\n",
      "653:\tlearn: 1.2141170\ttotal: 1.04s\tremaining: 552ms\n",
      "654:\tlearn: 1.2077860\ttotal: 1.04s\tremaining: 551ms\n",
      "655:\tlearn: 1.2014880\ttotal: 1.05s\tremaining: 549ms\n",
      "656:\tlearn: 1.1952228\ttotal: 1.05s\tremaining: 547ms\n",
      "657:\tlearn: 1.1889903\ttotal: 1.05s\tremaining: 545ms\n",
      "658:\tlearn: 1.1827903\ttotal: 1.05s\tremaining: 544ms\n",
      "659:\tlearn: 1.1766227\ttotal: 1.05s\tremaining: 542ms\n",
      "660:\tlearn: 1.1704872\ttotal: 1.05s\tremaining: 540ms\n",
      "661:\tlearn: 1.1643837\ttotal: 1.05s\tremaining: 538ms\n",
      "662:\tlearn: 1.1583120\ttotal: 1.05s\tremaining: 536ms\n",
      "663:\tlearn: 1.1522720\ttotal: 1.06s\tremaining: 535ms\n",
      "664:\tlearn: 1.1462634\ttotal: 1.06s\tremaining: 533ms\n",
      "665:\tlearn: 1.1402862\ttotal: 1.06s\tremaining: 531ms\n",
      "666:\tlearn: 1.1343402\ttotal: 1.06s\tremaining: 529ms\n",
      "667:\tlearn: 1.1284252\ttotal: 1.06s\tremaining: 528ms\n",
      "668:\tlearn: 1.1225410\ttotal: 1.06s\tremaining: 526ms\n",
      "669:\tlearn: 1.1166875\ttotal: 1.06s\tremaining: 524ms\n",
      "670:\tlearn: 1.1108646\ttotal: 1.06s\tremaining: 522ms\n",
      "671:\tlearn: 1.1050720\ttotal: 1.07s\tremaining: 521ms\n",
      "672:\tlearn: 1.0993096\ttotal: 1.07s\tremaining: 519ms\n",
      "673:\tlearn: 1.0935772\ttotal: 1.07s\tremaining: 517ms\n",
      "674:\tlearn: 1.0878748\ttotal: 1.07s\tremaining: 516ms\n",
      "675:\tlearn: 1.0822020\ttotal: 1.07s\tremaining: 514ms\n",
      "676:\tlearn: 1.0765589\ttotal: 1.07s\tremaining: 513ms\n",
      "677:\tlearn: 1.0709452\ttotal: 1.08s\tremaining: 511ms\n",
      "678:\tlearn: 1.0653607\ttotal: 1.08s\tremaining: 510ms\n",
      "679:\tlearn: 1.0598054\ttotal: 1.08s\tremaining: 508ms\n",
      "680:\tlearn: 1.0542791\ttotal: 1.08s\tremaining: 506ms\n",
      "681:\tlearn: 1.0487815\ttotal: 1.08s\tremaining: 504ms\n",
      "682:\tlearn: 1.0433127\ttotal: 1.08s\tremaining: 503ms\n",
      "683:\tlearn: 1.0378723\ttotal: 1.08s\tremaining: 501ms\n",
      "684:\tlearn: 1.0324603\ttotal: 1.09s\tremaining: 500ms\n",
      "685:\tlearn: 1.0270766\ttotal: 1.09s\tremaining: 498ms\n",
      "686:\tlearn: 1.0217209\ttotal: 1.09s\tremaining: 496ms\n",
      "687:\tlearn: 1.0163931\ttotal: 1.09s\tremaining: 495ms\n",
      "688:\tlearn: 1.0110931\ttotal: 1.09s\tremaining: 493ms\n",
      "689:\tlearn: 1.0058208\ttotal: 1.09s\tremaining: 491ms\n",
      "690:\tlearn: 1.0005759\ttotal: 1.09s\tremaining: 490ms\n",
      "691:\tlearn: 0.9953584\ttotal: 1.1s\tremaining: 488ms\n",
      "692:\tlearn: 0.9901681\ttotal: 1.1s\tremaining: 487ms\n",
      "693:\tlearn: 0.9850049\ttotal: 1.1s\tremaining: 485ms\n",
      "694:\tlearn: 0.9798686\ttotal: 1.1s\tremaining: 484ms\n",
      "695:\tlearn: 0.9747591\ttotal: 1.1s\tremaining: 482ms\n",
      "696:\tlearn: 0.9696762\ttotal: 1.1s\tremaining: 481ms\n",
      "697:\tlearn: 0.9646198\ttotal: 1.11s\tremaining: 479ms\n",
      "698:\tlearn: 0.9595898\ttotal: 1.11s\tremaining: 477ms\n",
      "699:\tlearn: 0.9545860\ttotal: 1.11s\tremaining: 476ms\n",
      "700:\tlearn: 0.9496083\ttotal: 1.11s\tremaining: 474ms\n",
      "701:\tlearn: 0.9446566\ttotal: 1.11s\tremaining: 472ms\n",
      "702:\tlearn: 0.9397307\ttotal: 1.11s\tremaining: 470ms\n",
      "703:\tlearn: 0.9348305\ttotal: 1.11s\tremaining: 469ms\n",
      "704:\tlearn: 0.9299558\ttotal: 1.12s\tremaining: 467ms\n",
      "705:\tlearn: 0.9251065\ttotal: 1.12s\tremaining: 465ms\n",
      "706:\tlearn: 0.9202826\ttotal: 1.12s\tremaining: 464ms\n",
      "707:\tlearn: 0.9154837\ttotal: 1.12s\tremaining: 462ms\n",
      "708:\tlearn: 0.9107100\ttotal: 1.12s\tremaining: 461ms\n",
      "709:\tlearn: 0.9059611\ttotal: 1.12s\tremaining: 459ms\n",
      "710:\tlearn: 0.9012369\ttotal: 1.12s\tremaining: 457ms\n",
      "711:\tlearn: 0.8965374\ttotal: 1.13s\tremaining: 456ms\n",
      "712:\tlearn: 0.8918624\ttotal: 1.13s\tremaining: 454ms\n",
      "713:\tlearn: 0.8872118\ttotal: 1.13s\tremaining: 452ms\n",
      "714:\tlearn: 0.8825854\ttotal: 1.13s\tremaining: 450ms\n",
      "715:\tlearn: 0.8779832\ttotal: 1.13s\tremaining: 449ms\n",
      "716:\tlearn: 0.8734050\ttotal: 1.13s\tremaining: 447ms\n",
      "717:\tlearn: 0.8688506\ttotal: 1.13s\tremaining: 445ms\n",
      "718:\tlearn: 0.8643200\ttotal: 1.14s\tremaining: 444ms\n",
      "719:\tlearn: 0.8598130\ttotal: 1.14s\tremaining: 442ms\n",
      "720:\tlearn: 0.8553295\ttotal: 1.14s\tremaining: 440ms\n",
      "721:\tlearn: 0.8508694\ttotal: 1.14s\tremaining: 439ms\n",
      "722:\tlearn: 0.8464325\ttotal: 1.14s\tremaining: 437ms\n",
      "723:\tlearn: 0.8420188\ttotal: 1.14s\tremaining: 435ms\n",
      "724:\tlearn: 0.8376281\ttotal: 1.14s\tremaining: 434ms\n",
      "725:\tlearn: 0.8332603\ttotal: 1.14s\tremaining: 432ms\n",
      "726:\tlearn: 0.8289152\ttotal: 1.15s\tremaining: 430ms\n",
      "727:\tlearn: 0.8245929\ttotal: 1.15s\tremaining: 428ms\n",
      "728:\tlearn: 0.8202930\ttotal: 1.15s\tremaining: 427ms\n",
      "729:\tlearn: 0.8160156\ttotal: 1.15s\tremaining: 425ms\n",
      "730:\tlearn: 0.8117605\ttotal: 1.15s\tremaining: 423ms\n",
      "731:\tlearn: 0.8075276\ttotal: 1.15s\tremaining: 422ms\n",
      "732:\tlearn: 0.8033167\ttotal: 1.15s\tremaining: 420ms\n",
      "733:\tlearn: 0.7991278\ttotal: 1.15s\tremaining: 418ms\n",
      "734:\tlearn: 0.7949608\ttotal: 1.16s\tremaining: 417ms\n",
      "735:\tlearn: 0.7908154\ttotal: 1.16s\tremaining: 415ms\n",
      "736:\tlearn: 0.7866917\ttotal: 1.16s\tremaining: 413ms\n",
      "737:\tlearn: 0.7825895\ttotal: 1.16s\tremaining: 412ms\n",
      "738:\tlearn: 0.7785087\ttotal: 1.16s\tremaining: 410ms\n",
      "739:\tlearn: 0.7744492\ttotal: 1.16s\tremaining: 408ms\n",
      "740:\tlearn: 0.7704108\ttotal: 1.16s\tremaining: 407ms\n",
      "741:\tlearn: 0.7663935\ttotal: 1.16s\tremaining: 405ms\n",
      "742:\tlearn: 0.7623971\ttotal: 1.17s\tremaining: 403ms\n",
      "743:\tlearn: 0.7584216\ttotal: 1.17s\tremaining: 402ms\n",
      "744:\tlearn: 0.7544668\ttotal: 1.17s\tremaining: 400ms\n",
      "745:\tlearn: 0.7505327\ttotal: 1.17s\tremaining: 398ms\n",
      "746:\tlearn: 0.7466190\ttotal: 1.17s\tremaining: 396ms\n",
      "747:\tlearn: 0.7427258\ttotal: 1.17s\tremaining: 395ms\n",
      "748:\tlearn: 0.7388528\ttotal: 1.17s\tremaining: 393ms\n",
      "749:\tlearn: 0.7350001\ttotal: 1.17s\tremaining: 391ms\n",
      "750:\tlearn: 0.7311674\ttotal: 1.18s\tremaining: 390ms\n",
      "751:\tlearn: 0.7273548\ttotal: 1.18s\tremaining: 388ms\n",
      "752:\tlearn: 0.7235620\ttotal: 1.18s\tremaining: 386ms\n",
      "753:\tlearn: 0.7197889\ttotal: 1.18s\tremaining: 385ms\n",
      "754:\tlearn: 0.7160356\ttotal: 1.18s\tremaining: 383ms\n",
      "755:\tlearn: 0.7123018\ttotal: 1.18s\tremaining: 381ms\n",
      "756:\tlearn: 0.7085875\ttotal: 1.18s\tremaining: 380ms\n",
      "757:\tlearn: 0.7048926\ttotal: 1.18s\tremaining: 378ms\n",
      "758:\tlearn: 0.7012170\ttotal: 1.19s\tremaining: 376ms\n",
      "759:\tlearn: 0.6975605\ttotal: 1.19s\tremaining: 375ms\n",
      "760:\tlearn: 0.6939230\ttotal: 1.19s\tremaining: 373ms\n",
      "761:\tlearn: 0.6903046\ttotal: 1.19s\tremaining: 372ms\n",
      "762:\tlearn: 0.6867050\ttotal: 1.19s\tremaining: 370ms\n",
      "763:\tlearn: 0.6831242\ttotal: 1.19s\tremaining: 368ms\n",
      "764:\tlearn: 0.6795620\ttotal: 1.19s\tremaining: 367ms\n",
      "765:\tlearn: 0.6760184\ttotal: 1.19s\tremaining: 365ms\n",
      "766:\tlearn: 0.6724933\ttotal: 1.2s\tremaining: 363ms\n",
      "767:\tlearn: 0.6689866\ttotal: 1.2s\tremaining: 362ms\n",
      "768:\tlearn: 0.6654982\ttotal: 1.2s\tremaining: 360ms\n",
      "769:\tlearn: 0.6620279\ttotal: 1.2s\tremaining: 358ms\n",
      "770:\tlearn: 0.6585758\ttotal: 1.2s\tremaining: 357ms\n",
      "771:\tlearn: 0.6551417\ttotal: 1.2s\tremaining: 355ms\n",
      "772:\tlearn: 0.6517254\ttotal: 1.2s\tremaining: 353ms\n",
      "773:\tlearn: 0.6483270\ttotal: 1.2s\tremaining: 352ms\n",
      "774:\tlearn: 0.6449463\ttotal: 1.21s\tremaining: 350ms\n",
      "775:\tlearn: 0.6415832\ttotal: 1.21s\tremaining: 348ms\n",
      "776:\tlearn: 0.6382377\ttotal: 1.21s\tremaining: 347ms\n",
      "777:\tlearn: 0.6349096\ttotal: 1.21s\tremaining: 345ms\n",
      "778:\tlearn: 0.6315989\ttotal: 1.21s\tremaining: 344ms\n",
      "779:\tlearn: 0.6283054\ttotal: 1.21s\tremaining: 342ms\n",
      "780:\tlearn: 0.6250291\ttotal: 1.21s\tremaining: 340ms\n",
      "781:\tlearn: 0.6217699\ttotal: 1.21s\tremaining: 339ms\n",
      "782:\tlearn: 0.6185277\ttotal: 1.22s\tremaining: 337ms\n",
      "783:\tlearn: 0.6153023\ttotal: 1.22s\tremaining: 335ms\n",
      "784:\tlearn: 0.6120938\ttotal: 1.22s\tremaining: 334ms\n",
      "785:\tlearn: 0.6089021\ttotal: 1.22s\tremaining: 332ms\n",
      "786:\tlearn: 0.6057270\ttotal: 1.22s\tremaining: 330ms\n",
      "787:\tlearn: 0.6025684\ttotal: 1.22s\tremaining: 329ms\n",
      "788:\tlearn: 0.5994263\ttotal: 1.22s\tremaining: 327ms\n",
      "789:\tlearn: 0.5963006\ttotal: 1.22s\tremaining: 326ms\n",
      "790:\tlearn: 0.5931912\ttotal: 1.23s\tremaining: 324ms\n",
      "791:\tlearn: 0.5900980\ttotal: 1.23s\tremaining: 323ms\n",
      "792:\tlearn: 0.5870209\ttotal: 1.23s\tremaining: 321ms\n",
      "793:\tlearn: 0.5839599\ttotal: 1.23s\tremaining: 320ms\n",
      "794:\tlearn: 0.5809149\ttotal: 1.23s\tremaining: 318ms\n",
      "795:\tlearn: 0.5778857\ttotal: 1.23s\tremaining: 316ms\n",
      "796:\tlearn: 0.5748723\ttotal: 1.24s\tremaining: 315ms\n",
      "797:\tlearn: 0.5718746\ttotal: 1.24s\tremaining: 313ms\n",
      "798:\tlearn: 0.5688926\ttotal: 1.24s\tremaining: 312ms\n",
      "799:\tlearn: 0.5659261\ttotal: 1.24s\tremaining: 310ms\n",
      "800:\tlearn: 0.5629751\ttotal: 1.24s\tremaining: 309ms\n",
      "801:\tlearn: 0.5600394\ttotal: 1.24s\tremaining: 307ms\n",
      "802:\tlearn: 0.5571191\ttotal: 1.24s\tremaining: 305ms\n",
      "803:\tlearn: 0.5542140\ttotal: 1.25s\tremaining: 304ms\n",
      "804:\tlearn: 0.5513241\ttotal: 1.25s\tremaining: 302ms\n",
      "805:\tlearn: 0.5484492\ttotal: 1.25s\tremaining: 301ms\n",
      "806:\tlearn: 0.5455893\ttotal: 1.25s\tremaining: 299ms\n",
      "807:\tlearn: 0.5427443\ttotal: 1.25s\tremaining: 298ms\n",
      "808:\tlearn: 0.5399142\ttotal: 1.25s\tremaining: 296ms\n",
      "809:\tlearn: 0.5370988\ttotal: 1.25s\tremaining: 295ms\n",
      "810:\tlearn: 0.5342981\ttotal: 1.26s\tremaining: 293ms\n",
      "811:\tlearn: 0.5315120\ttotal: 1.26s\tremaining: 291ms\n",
      "812:\tlearn: 0.5287404\ttotal: 1.26s\tremaining: 290ms\n",
      "813:\tlearn: 0.5259833\ttotal: 1.26s\tremaining: 288ms\n",
      "814:\tlearn: 0.5232406\ttotal: 1.26s\tremaining: 287ms\n",
      "815:\tlearn: 0.5205121\ttotal: 1.26s\tremaining: 285ms\n",
      "816:\tlearn: 0.5177979\ttotal: 1.26s\tremaining: 283ms\n",
      "817:\tlearn: 0.5150979\ttotal: 1.27s\tremaining: 282ms\n",
      "818:\tlearn: 0.5124119\ttotal: 1.27s\tremaining: 280ms\n",
      "819:\tlearn: 0.5097399\ttotal: 1.27s\tremaining: 279ms\n",
      "820:\tlearn: 0.5070819\ttotal: 1.27s\tremaining: 277ms\n",
      "821:\tlearn: 0.5044377\ttotal: 1.27s\tremaining: 275ms\n",
      "822:\tlearn: 0.5018073\ttotal: 1.27s\tremaining: 274ms\n",
      "823:\tlearn: 0.4991906\ttotal: 1.27s\tremaining: 272ms\n",
      "824:\tlearn: 0.4965876\ttotal: 1.27s\tremaining: 271ms\n",
      "825:\tlearn: 0.4939981\ttotal: 1.28s\tremaining: 269ms\n",
      "826:\tlearn: 0.4914222\ttotal: 1.28s\tremaining: 267ms\n",
      "827:\tlearn: 0.4888597\ttotal: 1.28s\tremaining: 266ms\n",
      "828:\tlearn: 0.4863105\ttotal: 1.28s\tremaining: 264ms\n",
      "829:\tlearn: 0.4837746\ttotal: 1.28s\tremaining: 263ms\n",
      "830:\tlearn: 0.4812520\ttotal: 1.28s\tremaining: 261ms\n",
      "831:\tlearn: 0.4787425\ttotal: 1.28s\tremaining: 260ms\n",
      "832:\tlearn: 0.4762461\ttotal: 1.29s\tremaining: 258ms\n",
      "833:\tlearn: 0.4737627\ttotal: 1.29s\tremaining: 257ms\n",
      "834:\tlearn: 0.4712923\ttotal: 1.29s\tremaining: 255ms\n",
      "835:\tlearn: 0.4688347\ttotal: 1.29s\tremaining: 254ms\n",
      "836:\tlearn: 0.4663900\ttotal: 1.29s\tremaining: 252ms\n",
      "837:\tlearn: 0.4639580\ttotal: 1.29s\tremaining: 250ms\n",
      "838:\tlearn: 0.4615387\ttotal: 1.3s\tremaining: 249ms\n",
      "839:\tlearn: 0.4591320\ttotal: 1.3s\tremaining: 247ms\n",
      "840:\tlearn: 0.4567379\ttotal: 1.3s\tremaining: 246ms\n",
      "841:\tlearn: 0.4543562\ttotal: 1.3s\tremaining: 244ms\n",
      "842:\tlearn: 0.4519870\ttotal: 1.3s\tremaining: 243ms\n",
      "843:\tlearn: 0.4496301\ttotal: 1.3s\tremaining: 241ms\n",
      "844:\tlearn: 0.4472855\ttotal: 1.31s\tremaining: 240ms\n",
      "845:\tlearn: 0.4449531\ttotal: 1.31s\tremaining: 238ms\n",
      "846:\tlearn: 0.4426329\ttotal: 1.31s\tremaining: 236ms\n",
      "847:\tlearn: 0.4403248\ttotal: 1.31s\tremaining: 235ms\n",
      "848:\tlearn: 0.4380287\ttotal: 1.31s\tremaining: 233ms\n",
      "849:\tlearn: 0.4357446\ttotal: 1.31s\tremaining: 232ms\n",
      "850:\tlearn: 0.4334724\ttotal: 1.31s\tremaining: 230ms\n",
      "851:\tlearn: 0.4312121\ttotal: 1.32s\tremaining: 229ms\n",
      "852:\tlearn: 0.4289635\ttotal: 1.32s\tremaining: 227ms\n",
      "853:\tlearn: 0.4267267\ttotal: 1.32s\tremaining: 226ms\n",
      "854:\tlearn: 0.4245015\ttotal: 1.32s\tremaining: 224ms\n",
      "855:\tlearn: 0.4222880\ttotal: 1.32s\tremaining: 223ms\n",
      "856:\tlearn: 0.4200860\ttotal: 1.32s\tremaining: 221ms\n",
      "857:\tlearn: 0.4178954\ttotal: 1.32s\tremaining: 219ms\n",
      "858:\tlearn: 0.4157163\ttotal: 1.33s\tremaining: 218ms\n",
      "859:\tlearn: 0.4135485\ttotal: 1.33s\tremaining: 216ms\n",
      "860:\tlearn: 0.4113921\ttotal: 1.33s\tremaining: 215ms\n",
      "861:\tlearn: 0.4092469\ttotal: 1.33s\tremaining: 213ms\n",
      "862:\tlearn: 0.4071129\ttotal: 1.33s\tremaining: 212ms\n",
      "863:\tlearn: 0.4049900\ttotal: 1.33s\tremaining: 210ms\n",
      "864:\tlearn: 0.4028782\ttotal: 1.34s\tremaining: 209ms\n",
      "865:\tlearn: 0.4007774\ttotal: 1.34s\tremaining: 207ms\n",
      "866:\tlearn: 0.3986875\ttotal: 1.34s\tremaining: 206ms\n",
      "867:\tlearn: 0.3966085\ttotal: 1.34s\tremaining: 204ms\n",
      "868:\tlearn: 0.3945404\ttotal: 1.34s\tremaining: 203ms\n",
      "869:\tlearn: 0.3924831\ttotal: 1.34s\tremaining: 201ms\n",
      "870:\tlearn: 0.3904365\ttotal: 1.35s\tremaining: 200ms\n",
      "871:\tlearn: 0.3884006\ttotal: 1.35s\tremaining: 198ms\n",
      "872:\tlearn: 0.3863753\ttotal: 1.35s\tremaining: 196ms\n",
      "873:\tlearn: 0.3843605\ttotal: 1.35s\tremaining: 195ms\n",
      "874:\tlearn: 0.3823563\ttotal: 1.35s\tremaining: 193ms\n",
      "875:\tlearn: 0.3803625\ttotal: 1.35s\tremaining: 192ms\n",
      "876:\tlearn: 0.3783791\ttotal: 1.36s\tremaining: 190ms\n",
      "877:\tlearn: 0.3764060\ttotal: 1.36s\tremaining: 189ms\n",
      "878:\tlearn: 0.3744432\ttotal: 1.36s\tremaining: 187ms\n",
      "879:\tlearn: 0.3724907\ttotal: 1.36s\tremaining: 186ms\n",
      "880:\tlearn: 0.3705483\ttotal: 1.36s\tremaining: 184ms\n",
      "881:\tlearn: 0.3686161\ttotal: 1.36s\tremaining: 182ms\n",
      "882:\tlearn: 0.3666940\ttotal: 1.36s\tremaining: 181ms\n",
      "883:\tlearn: 0.3647818\ttotal: 1.36s\tremaining: 179ms\n",
      "884:\tlearn: 0.3628797\ttotal: 1.37s\tremaining: 178ms\n",
      "885:\tlearn: 0.3609875\ttotal: 1.37s\tremaining: 176ms\n",
      "886:\tlearn: 0.3591051\ttotal: 1.37s\tremaining: 174ms\n",
      "887:\tlearn: 0.3572325\ttotal: 1.37s\tremaining: 173ms\n",
      "888:\tlearn: 0.3553697\ttotal: 1.37s\tremaining: 171ms\n",
      "889:\tlearn: 0.3535167\ttotal: 1.37s\tremaining: 170ms\n",
      "890:\tlearn: 0.3516733\ttotal: 1.38s\tremaining: 168ms\n",
      "891:\tlearn: 0.3498395\ttotal: 1.38s\tremaining: 167ms\n",
      "892:\tlearn: 0.3480152\ttotal: 1.38s\tremaining: 165ms\n",
      "893:\tlearn: 0.3462005\ttotal: 1.38s\tremaining: 164ms\n",
      "894:\tlearn: 0.3443952\ttotal: 1.38s\tremaining: 162ms\n",
      "895:\tlearn: 0.3425994\ttotal: 1.38s\tremaining: 161ms\n",
      "896:\tlearn: 0.3408129\ttotal: 1.39s\tremaining: 159ms\n",
      "897:\tlearn: 0.3390357\ttotal: 1.39s\tremaining: 158ms\n",
      "898:\tlearn: 0.3372678\ttotal: 1.39s\tremaining: 156ms\n",
      "899:\tlearn: 0.3355091\ttotal: 1.39s\tremaining: 154ms\n",
      "900:\tlearn: 0.3337596\ttotal: 1.39s\tremaining: 153ms\n",
      "901:\tlearn: 0.3320192\ttotal: 1.39s\tremaining: 151ms\n",
      "902:\tlearn: 0.3302879\ttotal: 1.4s\tremaining: 150ms\n",
      "903:\tlearn: 0.3285656\ttotal: 1.4s\tremaining: 148ms\n",
      "904:\tlearn: 0.3268523\ttotal: 1.4s\tremaining: 147ms\n",
      "905:\tlearn: 0.3251480\ttotal: 1.4s\tremaining: 145ms\n",
      "906:\tlearn: 0.3234525\ttotal: 1.4s\tremaining: 144ms\n",
      "907:\tlearn: 0.3217658\ttotal: 1.4s\tremaining: 142ms\n",
      "908:\tlearn: 0.3200880\ttotal: 1.4s\tremaining: 141ms\n",
      "909:\tlearn: 0.3184189\ttotal: 1.41s\tremaining: 139ms\n",
      "910:\tlearn: 0.3167585\ttotal: 1.41s\tremaining: 137ms\n",
      "911:\tlearn: 0.3151068\ttotal: 1.41s\tremaining: 136ms\n",
      "912:\tlearn: 0.3134636\ttotal: 1.41s\tremaining: 135ms\n",
      "913:\tlearn: 0.3118291\ttotal: 1.41s\tremaining: 133ms\n",
      "914:\tlearn: 0.3102030\ttotal: 1.42s\tremaining: 131ms\n",
      "915:\tlearn: 0.3085855\ttotal: 1.42s\tremaining: 130ms\n",
      "916:\tlearn: 0.3069764\ttotal: 1.42s\tremaining: 128ms\n",
      "917:\tlearn: 0.3053756\ttotal: 1.42s\tremaining: 127ms\n",
      "918:\tlearn: 0.3037833\ttotal: 1.42s\tremaining: 125ms\n",
      "919:\tlearn: 0.3021992\ttotal: 1.42s\tremaining: 124ms\n",
      "920:\tlearn: 0.3006234\ttotal: 1.43s\tremaining: 122ms\n",
      "921:\tlearn: 0.2990558\ttotal: 1.43s\tremaining: 121ms\n",
      "922:\tlearn: 0.2974963\ttotal: 1.43s\tremaining: 119ms\n",
      "923:\tlearn: 0.2959450\ttotal: 1.43s\tremaining: 118ms\n",
      "924:\tlearn: 0.2944018\ttotal: 1.43s\tremaining: 116ms\n",
      "925:\tlearn: 0.2928667\ttotal: 1.44s\tremaining: 115ms\n",
      "926:\tlearn: 0.2913395\ttotal: 1.44s\tremaining: 113ms\n",
      "927:\tlearn: 0.2898203\ttotal: 1.44s\tremaining: 112ms\n",
      "928:\tlearn: 0.2883091\ttotal: 1.44s\tremaining: 110ms\n",
      "929:\tlearn: 0.2868057\ttotal: 1.44s\tremaining: 109ms\n",
      "930:\tlearn: 0.2853101\ttotal: 1.45s\tremaining: 107ms\n",
      "931:\tlearn: 0.2838224\ttotal: 1.45s\tremaining: 106ms\n",
      "932:\tlearn: 0.2823424\ttotal: 1.45s\tremaining: 104ms\n",
      "933:\tlearn: 0.2808701\ttotal: 1.45s\tremaining: 103ms\n",
      "934:\tlearn: 0.2794055\ttotal: 1.45s\tremaining: 101ms\n",
      "935:\tlearn: 0.2779486\ttotal: 1.46s\tremaining: 99.6ms\n",
      "936:\tlearn: 0.2764992\ttotal: 1.46s\tremaining: 98ms\n",
      "937:\tlearn: 0.2750574\ttotal: 1.46s\tremaining: 96.5ms\n",
      "938:\tlearn: 0.2736231\ttotal: 1.46s\tremaining: 95ms\n",
      "939:\tlearn: 0.2721963\ttotal: 1.46s\tremaining: 93.4ms\n",
      "940:\tlearn: 0.2707769\ttotal: 1.47s\tremaining: 91.9ms\n",
      "941:\tlearn: 0.2693650\ttotal: 1.47s\tremaining: 90.4ms\n",
      "942:\tlearn: 0.2679604\ttotal: 1.47s\tremaining: 88.8ms\n",
      "943:\tlearn: 0.2665631\ttotal: 1.47s\tremaining: 87.4ms\n",
      "944:\tlearn: 0.2651731\ttotal: 1.48s\tremaining: 85.9ms\n",
      "945:\tlearn: 0.2637903\ttotal: 1.48s\tremaining: 84.3ms\n",
      "946:\tlearn: 0.2624148\ttotal: 1.48s\tremaining: 82.8ms\n",
      "947:\tlearn: 0.2610464\ttotal: 1.48s\tremaining: 81.2ms\n",
      "948:\tlearn: 0.2596852\ttotal: 1.48s\tremaining: 79.7ms\n",
      "949:\tlearn: 0.2583311\ttotal: 1.49s\tremaining: 78.2ms\n",
      "950:\tlearn: 0.2569840\ttotal: 1.49s\tremaining: 76.6ms\n",
      "951:\tlearn: 0.2556440\ttotal: 1.49s\tremaining: 75.1ms\n",
      "952:\tlearn: 0.2543109\ttotal: 1.49s\tremaining: 73.5ms\n",
      "953:\tlearn: 0.2529848\ttotal: 1.49s\tremaining: 72ms\n",
      "954:\tlearn: 0.2516656\ttotal: 1.49s\tremaining: 70.4ms\n",
      "955:\tlearn: 0.2503533\ttotal: 1.5s\tremaining: 68.8ms\n",
      "956:\tlearn: 0.2490479\ttotal: 1.5s\tremaining: 67.4ms\n",
      "957:\tlearn: 0.2477492\ttotal: 1.5s\tremaining: 65.8ms\n",
      "958:\tlearn: 0.2464573\ttotal: 1.5s\tremaining: 64.3ms\n",
      "959:\tlearn: 0.2451722\ttotal: 1.5s\tremaining: 62.7ms\n",
      "960:\tlearn: 0.2438937\ttotal: 1.51s\tremaining: 61.1ms\n",
      "961:\tlearn: 0.2426219\ttotal: 1.51s\tremaining: 59.6ms\n",
      "962:\tlearn: 0.2413568\ttotal: 1.51s\tremaining: 58ms\n",
      "963:\tlearn: 0.2400982\ttotal: 1.51s\tremaining: 56.5ms\n",
      "964:\tlearn: 0.2388462\ttotal: 1.51s\tremaining: 54.9ms\n",
      "965:\tlearn: 0.2376008\ttotal: 1.52s\tremaining: 53.4ms\n",
      "966:\tlearn: 0.2363618\ttotal: 1.52s\tremaining: 51.8ms\n",
      "967:\tlearn: 0.2351293\ttotal: 1.52s\tremaining: 50.2ms\n",
      "968:\tlearn: 0.2339032\ttotal: 1.52s\tremaining: 48.7ms\n",
      "969:\tlearn: 0.2326835\ttotal: 1.52s\tremaining: 47.1ms\n",
      "970:\tlearn: 0.2314702\ttotal: 1.53s\tremaining: 45.6ms\n",
      "971:\tlearn: 0.2302632\ttotal: 1.53s\tremaining: 44.1ms\n",
      "972:\tlearn: 0.2290625\ttotal: 1.53s\tremaining: 42.5ms\n",
      "973:\tlearn: 0.2278680\ttotal: 1.53s\tremaining: 40.9ms\n",
      "974:\tlearn: 0.2266798\ttotal: 1.53s\tremaining: 39.4ms\n",
      "975:\tlearn: 0.2254978\ttotal: 1.54s\tremaining: 37.8ms\n",
      "976:\tlearn: 0.2243219\ttotal: 1.54s\tremaining: 36.2ms\n",
      "977:\tlearn: 0.2231522\ttotal: 1.54s\tremaining: 34.6ms\n",
      "978:\tlearn: 0.2219886\ttotal: 1.54s\tremaining: 33.1ms\n",
      "979:\tlearn: 0.2208310\ttotal: 1.54s\tremaining: 31.5ms\n",
      "980:\tlearn: 0.2196795\ttotal: 1.54s\tremaining: 29.9ms\n",
      "981:\tlearn: 0.2185340\ttotal: 1.55s\tremaining: 28.3ms\n",
      "982:\tlearn: 0.2173944\ttotal: 1.55s\tremaining: 26.8ms\n",
      "983:\tlearn: 0.2162608\ttotal: 1.55s\tremaining: 25.2ms\n",
      "984:\tlearn: 0.2151331\ttotal: 1.55s\tremaining: 23.6ms\n",
      "985:\tlearn: 0.2140113\ttotal: 1.55s\tremaining: 22.1ms\n",
      "986:\tlearn: 0.2128954\ttotal: 1.55s\tremaining: 20.5ms\n",
      "987:\tlearn: 0.2117852\ttotal: 1.56s\tremaining: 18.9ms\n",
      "988:\tlearn: 0.2106809\ttotal: 1.56s\tremaining: 17.3ms\n",
      "989:\tlearn: 0.2095823\ttotal: 1.56s\tremaining: 15.8ms\n",
      "990:\tlearn: 0.2084894\ttotal: 1.56s\tremaining: 14.2ms\n",
      "991:\tlearn: 0.2074022\ttotal: 1.57s\tremaining: 12.6ms\n",
      "992:\tlearn: 0.2063207\ttotal: 1.57s\tremaining: 11.1ms\n",
      "993:\tlearn: 0.2052449\ttotal: 1.57s\tremaining: 9.48ms\n",
      "994:\tlearn: 0.2041746\ttotal: 1.57s\tremaining: 7.9ms\n",
      "995:\tlearn: 0.2031100\ttotal: 1.58s\tremaining: 6.34ms\n",
      "996:\tlearn: 0.2020508\ttotal: 1.58s\tremaining: 4.76ms\n",
      "997:\tlearn: 0.2009972\ttotal: 1.58s\tremaining: 3.17ms\n",
      "998:\tlearn: 0.1999491\ttotal: 1.58s\tremaining: 1.59ms\n",
      "999:\tlearn: 0.1989065\ttotal: 1.59s\tremaining: 0us\n",
      "MSE: 156.9483485476969\n",
      "RMSE: 12.527902799259614\n"
     ]
    }
   ],
   "source": [
    "mod(CatBoostRegressor(),X_train_,X_test_,y_train,y_test)"
   ]
  },
  {
   "cell_type": "markdown",
   "id": "354c7f56",
   "metadata": {},
   "source": [
    "# SO RandomForest gives best results with lowest RMSE"
   ]
  },
  {
   "cell_type": "code",
   "execution_count": 126,
   "id": "b3f2c67d",
   "metadata": {},
   "outputs": [
    {
     "name": "stdout",
     "output_type": "stream",
     "text": [
      "Cross-validated scores: [0.45284516 0.44526559 0.93273305 0.87858624 0.97307953]\n",
      "Average score: 0.736501913153037\n"
     ]
    }
   ],
   "source": [
    "from sklearn.model_selection import cross_val_score\n",
    "scores = cross_val_score(RandomForestRegressor(), X_train, y_train, cv=5, scoring='r2')\n",
    "print(\"Cross-validated scores:\", scores )\n",
    "print(\"Average score:\" , np.average(scores))"
   ]
  },
  {
   "cell_type": "code",
   "execution_count": null,
   "id": "92f0c112",
   "metadata": {},
   "outputs": [],
   "source": []
  },
  {
   "cell_type": "code",
   "execution_count": 127,
   "id": "47779e33",
   "metadata": {},
   "outputs": [
    {
     "data": {
      "text/html": [
       "<style>#sk-container-id-1 {color: black;background-color: white;}#sk-container-id-1 pre{padding: 0;}#sk-container-id-1 div.sk-toggleable {background-color: white;}#sk-container-id-1 label.sk-toggleable__label {cursor: pointer;display: block;width: 100%;margin-bottom: 0;padding: 0.3em;box-sizing: border-box;text-align: center;}#sk-container-id-1 label.sk-toggleable__label-arrow:before {content: \"▸\";float: left;margin-right: 0.25em;color: #696969;}#sk-container-id-1 label.sk-toggleable__label-arrow:hover:before {color: black;}#sk-container-id-1 div.sk-estimator:hover label.sk-toggleable__label-arrow:before {color: black;}#sk-container-id-1 div.sk-toggleable__content {max-height: 0;max-width: 0;overflow: hidden;text-align: left;background-color: #f0f8ff;}#sk-container-id-1 div.sk-toggleable__content pre {margin: 0.2em;color: black;border-radius: 0.25em;background-color: #f0f8ff;}#sk-container-id-1 input.sk-toggleable__control:checked~div.sk-toggleable__content {max-height: 200px;max-width: 100%;overflow: auto;}#sk-container-id-1 input.sk-toggleable__control:checked~label.sk-toggleable__label-arrow:before {content: \"▾\";}#sk-container-id-1 div.sk-estimator input.sk-toggleable__control:checked~label.sk-toggleable__label {background-color: #d4ebff;}#sk-container-id-1 div.sk-label input.sk-toggleable__control:checked~label.sk-toggleable__label {background-color: #d4ebff;}#sk-container-id-1 input.sk-hidden--visually {border: 0;clip: rect(1px 1px 1px 1px);clip: rect(1px, 1px, 1px, 1px);height: 1px;margin: -1px;overflow: hidden;padding: 0;position: absolute;width: 1px;}#sk-container-id-1 div.sk-estimator {font-family: monospace;background-color: #f0f8ff;border: 1px dotted black;border-radius: 0.25em;box-sizing: border-box;margin-bottom: 0.5em;}#sk-container-id-1 div.sk-estimator:hover {background-color: #d4ebff;}#sk-container-id-1 div.sk-parallel-item::after {content: \"\";width: 100%;border-bottom: 1px solid gray;flex-grow: 1;}#sk-container-id-1 div.sk-label:hover label.sk-toggleable__label {background-color: #d4ebff;}#sk-container-id-1 div.sk-serial::before {content: \"\";position: absolute;border-left: 1px solid gray;box-sizing: border-box;top: 0;bottom: 0;left: 50%;z-index: 0;}#sk-container-id-1 div.sk-serial {display: flex;flex-direction: column;align-items: center;background-color: white;padding-right: 0.2em;padding-left: 0.2em;position: relative;}#sk-container-id-1 div.sk-item {position: relative;z-index: 1;}#sk-container-id-1 div.sk-parallel {display: flex;align-items: stretch;justify-content: center;background-color: white;position: relative;}#sk-container-id-1 div.sk-item::before, #sk-container-id-1 div.sk-parallel-item::before {content: \"\";position: absolute;border-left: 1px solid gray;box-sizing: border-box;top: 0;bottom: 0;left: 50%;z-index: -1;}#sk-container-id-1 div.sk-parallel-item {display: flex;flex-direction: column;z-index: 1;position: relative;background-color: white;}#sk-container-id-1 div.sk-parallel-item:first-child::after {align-self: flex-end;width: 50%;}#sk-container-id-1 div.sk-parallel-item:last-child::after {align-self: flex-start;width: 50%;}#sk-container-id-1 div.sk-parallel-item:only-child::after {width: 0;}#sk-container-id-1 div.sk-dashed-wrapped {border: 1px dashed gray;margin: 0 0.4em 0.5em 0.4em;box-sizing: border-box;padding-bottom: 0.4em;background-color: white;}#sk-container-id-1 div.sk-label label {font-family: monospace;font-weight: bold;display: inline-block;line-height: 1.2em;}#sk-container-id-1 div.sk-label-container {text-align: center;}#sk-container-id-1 div.sk-container {/* jupyter's `normalize.less` sets `[hidden] { display: none; }` but bootstrap.min.css set `[hidden] { display: none !important; }` so we also need the `!important` here to be able to override the default hidden behavior on the sphinx rendered scikit-learn.org. See: https://github.com/scikit-learn/scikit-learn/issues/21755 */display: inline-block !important;position: relative;}#sk-container-id-1 div.sk-text-repr-fallback {display: none;}</style><div id=\"sk-container-id-1\" class=\"sk-top-container\"><div class=\"sk-text-repr-fallback\"><pre>RandomForestRegressor()</pre><b>In a Jupyter environment, please rerun this cell to show the HTML representation or trust the notebook. <br />On GitHub, the HTML representation is unable to render, please try loading this page with nbviewer.org.</b></div><div class=\"sk-container\" hidden><div class=\"sk-item\"><div class=\"sk-estimator sk-toggleable\"><input class=\"sk-toggleable__control sk-hidden--visually\" id=\"sk-estimator-id-1\" type=\"checkbox\" checked><label for=\"sk-estimator-id-1\" class=\"sk-toggleable__label sk-toggleable__label-arrow\">RandomForestRegressor</label><div class=\"sk-toggleable__content\"><pre>RandomForestRegressor()</pre></div></div></div></div></div>"
      ],
      "text/plain": [
       "RandomForestRegressor()"
      ]
     },
     "execution_count": 127,
     "metadata": {},
     "output_type": "execute_result"
    }
   ],
   "source": [
    "RandomForestRegressor()"
   ]
  },
  {
   "cell_type": "code",
   "execution_count": 128,
   "id": "2f3672d6",
   "metadata": {},
   "outputs": [],
   "source": [
    "param_grid = {\n",
    "    'n_estimators': [50, 100, 150, 200],\n",
    "    'max_depth':[None,4,6,9]\n",
    "}"
   ]
  },
  {
   "cell_type": "code",
   "execution_count": 129,
   "id": "c6fbdd44",
   "metadata": {},
   "outputs": [],
   "source": [
    "grid_search = GridSearchCV(estimator=RandomForestRegressor(), param_grid=param_grid, cv=5, scoring='r2')"
   ]
  },
  {
   "cell_type": "code",
   "execution_count": 130,
   "id": "58070b4f",
   "metadata": {},
   "outputs": [
    {
     "data": {
      "text/html": [
       "<style>#sk-container-id-2 {color: black;background-color: white;}#sk-container-id-2 pre{padding: 0;}#sk-container-id-2 div.sk-toggleable {background-color: white;}#sk-container-id-2 label.sk-toggleable__label {cursor: pointer;display: block;width: 100%;margin-bottom: 0;padding: 0.3em;box-sizing: border-box;text-align: center;}#sk-container-id-2 label.sk-toggleable__label-arrow:before {content: \"▸\";float: left;margin-right: 0.25em;color: #696969;}#sk-container-id-2 label.sk-toggleable__label-arrow:hover:before {color: black;}#sk-container-id-2 div.sk-estimator:hover label.sk-toggleable__label-arrow:before {color: black;}#sk-container-id-2 div.sk-toggleable__content {max-height: 0;max-width: 0;overflow: hidden;text-align: left;background-color: #f0f8ff;}#sk-container-id-2 div.sk-toggleable__content pre {margin: 0.2em;color: black;border-radius: 0.25em;background-color: #f0f8ff;}#sk-container-id-2 input.sk-toggleable__control:checked~div.sk-toggleable__content {max-height: 200px;max-width: 100%;overflow: auto;}#sk-container-id-2 input.sk-toggleable__control:checked~label.sk-toggleable__label-arrow:before {content: \"▾\";}#sk-container-id-2 div.sk-estimator input.sk-toggleable__control:checked~label.sk-toggleable__label {background-color: #d4ebff;}#sk-container-id-2 div.sk-label input.sk-toggleable__control:checked~label.sk-toggleable__label {background-color: #d4ebff;}#sk-container-id-2 input.sk-hidden--visually {border: 0;clip: rect(1px 1px 1px 1px);clip: rect(1px, 1px, 1px, 1px);height: 1px;margin: -1px;overflow: hidden;padding: 0;position: absolute;width: 1px;}#sk-container-id-2 div.sk-estimator {font-family: monospace;background-color: #f0f8ff;border: 1px dotted black;border-radius: 0.25em;box-sizing: border-box;margin-bottom: 0.5em;}#sk-container-id-2 div.sk-estimator:hover {background-color: #d4ebff;}#sk-container-id-2 div.sk-parallel-item::after {content: \"\";width: 100%;border-bottom: 1px solid gray;flex-grow: 1;}#sk-container-id-2 div.sk-label:hover label.sk-toggleable__label {background-color: #d4ebff;}#sk-container-id-2 div.sk-serial::before {content: \"\";position: absolute;border-left: 1px solid gray;box-sizing: border-box;top: 0;bottom: 0;left: 50%;z-index: 0;}#sk-container-id-2 div.sk-serial {display: flex;flex-direction: column;align-items: center;background-color: white;padding-right: 0.2em;padding-left: 0.2em;position: relative;}#sk-container-id-2 div.sk-item {position: relative;z-index: 1;}#sk-container-id-2 div.sk-parallel {display: flex;align-items: stretch;justify-content: center;background-color: white;position: relative;}#sk-container-id-2 div.sk-item::before, #sk-container-id-2 div.sk-parallel-item::before {content: \"\";position: absolute;border-left: 1px solid gray;box-sizing: border-box;top: 0;bottom: 0;left: 50%;z-index: -1;}#sk-container-id-2 div.sk-parallel-item {display: flex;flex-direction: column;z-index: 1;position: relative;background-color: white;}#sk-container-id-2 div.sk-parallel-item:first-child::after {align-self: flex-end;width: 50%;}#sk-container-id-2 div.sk-parallel-item:last-child::after {align-self: flex-start;width: 50%;}#sk-container-id-2 div.sk-parallel-item:only-child::after {width: 0;}#sk-container-id-2 div.sk-dashed-wrapped {border: 1px dashed gray;margin: 0 0.4em 0.5em 0.4em;box-sizing: border-box;padding-bottom: 0.4em;background-color: white;}#sk-container-id-2 div.sk-label label {font-family: monospace;font-weight: bold;display: inline-block;line-height: 1.2em;}#sk-container-id-2 div.sk-label-container {text-align: center;}#sk-container-id-2 div.sk-container {/* jupyter's `normalize.less` sets `[hidden] { display: none; }` but bootstrap.min.css set `[hidden] { display: none !important; }` so we also need the `!important` here to be able to override the default hidden behavior on the sphinx rendered scikit-learn.org. See: https://github.com/scikit-learn/scikit-learn/issues/21755 */display: inline-block !important;position: relative;}#sk-container-id-2 div.sk-text-repr-fallback {display: none;}</style><div id=\"sk-container-id-2\" class=\"sk-top-container\"><div class=\"sk-text-repr-fallback\"><pre>GridSearchCV(cv=5, estimator=RandomForestRegressor(),\n",
       "             param_grid={&#x27;max_depth&#x27;: [None, 4, 6, 9],\n",
       "                         &#x27;n_estimators&#x27;: [50, 100, 150, 200]},\n",
       "             scoring=&#x27;r2&#x27;)</pre><b>In a Jupyter environment, please rerun this cell to show the HTML representation or trust the notebook. <br />On GitHub, the HTML representation is unable to render, please try loading this page with nbviewer.org.</b></div><div class=\"sk-container\" hidden><div class=\"sk-item sk-dashed-wrapped\"><div class=\"sk-label-container\"><div class=\"sk-label sk-toggleable\"><input class=\"sk-toggleable__control sk-hidden--visually\" id=\"sk-estimator-id-2\" type=\"checkbox\" ><label for=\"sk-estimator-id-2\" class=\"sk-toggleable__label sk-toggleable__label-arrow\">GridSearchCV</label><div class=\"sk-toggleable__content\"><pre>GridSearchCV(cv=5, estimator=RandomForestRegressor(),\n",
       "             param_grid={&#x27;max_depth&#x27;: [None, 4, 6, 9],\n",
       "                         &#x27;n_estimators&#x27;: [50, 100, 150, 200]},\n",
       "             scoring=&#x27;r2&#x27;)</pre></div></div></div><div class=\"sk-parallel\"><div class=\"sk-parallel-item\"><div class=\"sk-item\"><div class=\"sk-label-container\"><div class=\"sk-label sk-toggleable\"><input class=\"sk-toggleable__control sk-hidden--visually\" id=\"sk-estimator-id-3\" type=\"checkbox\" ><label for=\"sk-estimator-id-3\" class=\"sk-toggleable__label sk-toggleable__label-arrow\">estimator: RandomForestRegressor</label><div class=\"sk-toggleable__content\"><pre>RandomForestRegressor()</pre></div></div></div><div class=\"sk-serial\"><div class=\"sk-item\"><div class=\"sk-estimator sk-toggleable\"><input class=\"sk-toggleable__control sk-hidden--visually\" id=\"sk-estimator-id-4\" type=\"checkbox\" ><label for=\"sk-estimator-id-4\" class=\"sk-toggleable__label sk-toggleable__label-arrow\">RandomForestRegressor</label><div class=\"sk-toggleable__content\"><pre>RandomForestRegressor()</pre></div></div></div></div></div></div></div></div></div></div>"
      ],
      "text/plain": [
       "GridSearchCV(cv=5, estimator=RandomForestRegressor(),\n",
       "             param_grid={'max_depth': [None, 4, 6, 9],\n",
       "                         'n_estimators': [50, 100, 150, 200]},\n",
       "             scoring='r2')"
      ]
     },
     "execution_count": 130,
     "metadata": {},
     "output_type": "execute_result"
    }
   ],
   "source": [
    "grid_search.fit(X_train,y_train)"
   ]
  },
  {
   "cell_type": "code",
   "execution_count": 131,
   "id": "134de17e",
   "metadata": {},
   "outputs": [
    {
     "data": {
      "text/plain": [
       "{'max_depth': 4, 'n_estimators': 50}"
      ]
     },
     "execution_count": 131,
     "metadata": {},
     "output_type": "execute_result"
    }
   ],
   "source": [
    "grid_search.best_params_"
   ]
  },
  {
   "cell_type": "code",
   "execution_count": 132,
   "id": "5c68d814",
   "metadata": {},
   "outputs": [
    {
     "name": "stdout",
     "output_type": "stream",
     "text": [
      "MSE: 124.50293429695348\n",
      "RMSE: 11.158088290426523\n"
     ]
    }
   ],
   "source": [
    "mod(RandomForestRegressor(max_depth=9,n_estimators=200),X_train_,X_test_,y_train,y_test)"
   ]
  },
  {
   "cell_type": "markdown",
   "id": "32a3f6ed",
   "metadata": {},
   "source": [
    "<b>Final model(Random Forest)</b>\n",
    "\n",
    "<b>RMSE: 8.8086</b>"
   ]
  },
  {
   "cell_type": "markdown",
   "id": "02bae100",
   "metadata": {},
   "source": [
    "<b>Model Interpretation</b>"
   ]
  },
  {
   "cell_type": "code",
   "execution_count": 133,
   "id": "8a6ec781",
   "metadata": {},
   "outputs": [
    {
     "data": {
      "image/png": "[encoded data removed]",
      "text/plain": [
       "<Figure size 1440x1440 with 1 Axes>"
      ]
     },
     "metadata": {
      "needs_background": "light"
     },
     "output_type": "display_data"
    }
   ],
   "source": [
    "model = RandomForestRegressor()\n",
    "\n",
    "model.fit(X_train_, y_train)\n",
    "importances = model.feature_importances_\n",
    "\n",
    "#\n",
    "sorted_indices = np.argsort(importances)[::-1]\n",
    "\n",
    "plt.title('Feature Importance')\n",
    "plt.bar(range(X_train.shape[1]), importances[sorted_indices], align='center')\n",
    "plt.xticks(range(X_train_.shape[1]), X_train_.columns[sorted_indices], rotation=90)\n",
    "plt.tight_layout()\n",
    "plt.show()"
   ]
  },
  {
   "cell_type": "markdown",
   "id": "36301693",
   "metadata": {},
   "source": [
    "**Construction cost ,Unemployment Rate,CPI affects the House Price Index and buying patterns the most**  \n",
    "**Recession, Life Expectancy and Permits have not affected much**"
   ]
  },
  {
   "cell_type": "code",
   "execution_count": null,
   "id": "f7c179a9",
   "metadata": {},
   "outputs": [],
   "source": []
  }
 ],
 "metadata": {
  "kernelspec": {
   "display_name": "Python 3 (ipykernel)",
   "language": "python",
   "name": "python3"
  },
  "language_info": {
   "codemirror_mode": {
    "name": "ipython",
    "version": 3
   },
   "file_extension": ".py",
   "mimetype": "text/x-python",
   "name": "python",
   "nbconvert_exporter": "python",
   "pygments_lexer": "ipython3",
   "version": "3.9.12"
  }
 },
 "nbformat": 4,
 "nbformat_minor": 5
}
